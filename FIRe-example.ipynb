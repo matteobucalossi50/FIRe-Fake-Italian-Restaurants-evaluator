{
 "cells": [
  {
   "cell_type": "markdown",
   "metadata": {},
   "source": [
    "# Example of FIRe scoring system on 10 menus"
   ]
  },
  {
   "cell_type": "code",
   "execution_count": 183,
   "metadata": {},
   "outputs": [],
   "source": [
    "import pandas as pd\n",
    "import simplejson as json\n",
    "from analysis.simple_spell import *\n",
    "from scrapers.TestCorpusScraper_editing import *\n",
    "from analysis.scoring import *\n",
    "from analysis.Indexes import *\n",
    "import warnings\n",
    "warnings.filterwarnings('ignore')\n"
   ]
  },
  {
   "cell_type": "markdown",
   "metadata": {},
   "source": [
    "## Background corpus "
   ]
  },
  {
   "cell_type": "markdown",
   "metadata": {},
   "source": [
    "The following code reads the corpus we created to assess authencity of restaurants' menu. We display some of the main features of this corpus as follows."
   ]
  },
  {
   "cell_type": "code",
   "execution_count": 168,
   "metadata": {},
   "outputs": [],
   "source": [
    "# Importing the background corpus\n",
    "with open('data/Background Corpora.json', 'r') as j:\n",
    "        Background_Corpora_Json = json.load(j)\n"
   ]
  },
  {
   "cell_type": "code",
   "execution_count": 169,
   "metadata": {
    "scrolled": true
   },
   "outputs": [
    {
     "name": "stdout",
     "output_type": "stream",
     "text": [
      "['spaghetti', 'guanciale', 'tuorli', 'uova', 'medie', 'pecorino', 'romano', 'pepe', 'nero', 'preparare', 'carbonara', 'cominciate', 'mettendo', 'fuoco', 'pentola', 'lacqua', 'salata', 'cuocere', 'pasta', 'frattempo', 'eliminate', 'cotenna', 'tagliatelo', 'prima', 'fette', 'poi', 'striscioline', 'spesse', 'circa', 'cm']\n"
     ]
    }
   ],
   "source": [
    "all_tokens = get_alltokens(Background_Corpora_Json)"
   ]
  },
  {
   "cell_type": "code",
   "execution_count": null,
   "metadata": {},
   "outputs": [],
   "source": [
    "print('Example of tokens: ')\n",
    "print(all_tokens[:30])"
   ]
  },
  {
   "cell_type": "code",
   "execution_count": 170,
   "metadata": {
    "scrolled": true
   },
   "outputs": [
    {
     "name": "stdout",
     "output_type": "stream",
     "text": [
      "[['spaghetti', 'guanciale', 'tuorli'], ['guanciale', 'tuorli', 'di'], ['tuorli', 'di', 'uova'], ['di', 'uova', 'medie'], ['uova', 'medie', 'pecorino'], ['medie', 'pecorino', 'romano'], ['pecorino', 'romano', 'pepe'], ['romano', 'pepe', 'nero'], ['pepe', 'nero', 'per'], ['nero', 'per', 'preparare'], ['per', 'preparare', 'gli'], ['preparare', 'gli', 'spaghetti'], ['gli', 'spaghetti', 'alla'], ['spaghetti', 'alla', 'carbonara'], ['alla', 'carbonara', 'cominciate'], ['carbonara', 'cominciate', 'mettendo'], ['cominciate', 'mettendo', 'sul'], ['mettendo', 'sul', 'fuoco'], ['sul', 'fuoco', 'una'], ['fuoco', 'una', 'pentola']]\n"
     ]
    }
   ],
   "source": [
    "all_ngrams = ngrams_it(Background_Corpora_Json)"
   ]
  },
  {
   "cell_type": "code",
   "execution_count": null,
   "metadata": {},
   "outputs": [],
   "source": [
    "print('Example of trigrams: ')\n",
    "print(all_ngrams[:20])"
   ]
  },
  {
   "cell_type": "code",
   "execution_count": 171,
   "metadata": {
    "scrolled": true
   },
   "outputs": [
    {
     "ename": "TypeError",
     "evalue": "unhashable type: 'slice'",
     "output_type": "error",
     "traceback": [
      "\u001b[0;31m---------------------------------------------------------------------------\u001b[0m",
      "\u001b[0;31mTypeError\u001b[0m                                 Traceback (most recent call last)",
      "\u001b[0;32m<ipython-input-171-1d78359323b0>\u001b[0m in \u001b[0;36m<module>\u001b[0;34m()\u001b[0m\n\u001b[1;32m      1\u001b[0m \u001b[0mwords_freq\u001b[0m \u001b[0;34m=\u001b[0m \u001b[0mtf\u001b[0m\u001b[0;34m(\u001b[0m\u001b[0mBackground_Corpora_Json\u001b[0m\u001b[0;34m)\u001b[0m\u001b[0;34m\u001b[0m\u001b[0;34m\u001b[0m\u001b[0m\n\u001b[0;32m----> 2\u001b[0;31m \u001b[0mwords_freq\u001b[0m\u001b[0;34m[\u001b[0m\u001b[0;34m:\u001b[0m\u001b[0;36m20\u001b[0m\u001b[0;34m]\u001b[0m\u001b[0;34m\u001b[0m\u001b[0;34m\u001b[0m\u001b[0m\n\u001b[0m",
      "\u001b[0;31mTypeError\u001b[0m: unhashable type: 'slice'"
     ]
    }
   ],
   "source": [
    "words_freq = tf(Background_Corpora_Json)"
   ]
  },
  {
   "cell_type": "code",
   "execution_count": null,
   "metadata": {},
   "outputs": [],
   "source": [
    "print('Example of TF: ')\n",
    "print(words_freq[:20])"
   ]
  },
  {
   "cell_type": "code",
   "execution_count": 172,
   "metadata": {
    "scrolled": true
   },
   "outputs": [
    {
     "ename": "TypeError",
     "evalue": "unhashable type: 'slice'",
     "output_type": "error",
     "traceback": [
      "\u001b[0;31m---------------------------------------------------------------------------\u001b[0m",
      "\u001b[0;31mTypeError\u001b[0m                                 Traceback (most recent call last)",
      "\u001b[0;32m<ipython-input-172-e68f04c53022>\u001b[0m in \u001b[0;36m<module>\u001b[0;34m()\u001b[0m\n\u001b[1;32m      1\u001b[0m \u001b[0mdoc_terms\u001b[0m \u001b[0;34m=\u001b[0m \u001b[0mtf_doc\u001b[0m\u001b[0;34m(\u001b[0m\u001b[0mBackground_Corpora_Json\u001b[0m\u001b[0;34m)\u001b[0m\u001b[0;34m\u001b[0m\u001b[0;34m\u001b[0m\u001b[0m\n\u001b[0;32m----> 2\u001b[0;31m \u001b[0mdoc_terms\u001b[0m\u001b[0;34m[\u001b[0m\u001b[0;34m:\u001b[0m\u001b[0;36m5\u001b[0m\u001b[0;34m]\u001b[0m\u001b[0;34m\u001b[0m\u001b[0;34m\u001b[0m\u001b[0m\n\u001b[0m",
      "\u001b[0;31mTypeError\u001b[0m: unhashable type: 'slice'"
     ]
    }
   ],
   "source": [
    "doc_terms = tf_doc(Background_Corpora_Json)"
   ]
  },
  {
   "cell_type": "code",
   "execution_count": null,
   "metadata": {},
   "outputs": [],
   "source": [
    "print('Example of TF per menu: ')\n",
    "print(doc_terms[0])"
   ]
  },
  {
   "cell_type": "code",
   "execution_count": 12,
   "metadata": {
    "collapsed": true
   },
   "outputs": [
    {
     "ename": "KeyboardInterrupt",
     "evalue": "",
     "output_type": "error",
     "traceback": [
      "\u001b[0;31m---------------------------------------------------------------------------\u001b[0m",
      "\u001b[0;31mKeyboardInterrupt\u001b[0m                         Traceback (most recent call last)",
      "\u001b[0;32m<ipython-input-12-dab45d6a738a>\u001b[0m in \u001b[0;36m<module>\u001b[0;34m()\u001b[0m\n\u001b[0;32m----> 1\u001b[0;31m \u001b[0mterm_docs\u001b[0m \u001b[0;34m=\u001b[0m \u001b[0minv_index\u001b[0m\u001b[0;34m(\u001b[0m\u001b[0mBackground_Corpora_Json\u001b[0m\u001b[0;34m,\u001b[0m \u001b[0mall_tokens\u001b[0m\u001b[0;34m)\u001b[0m\u001b[0;34m\u001b[0m\u001b[0;34m\u001b[0m\u001b[0m\n\u001b[0m\u001b[1;32m      2\u001b[0m \u001b[0mterm_docs\u001b[0m\u001b[0;34m[\u001b[0m\u001b[0;34m:\u001b[0m\u001b[0;36m5\u001b[0m\u001b[0;34m]\u001b[0m\u001b[0;34m\u001b[0m\u001b[0;34m\u001b[0m\u001b[0m\n",
      "\u001b[0;32m/Users/Matteo/Desktop/NLP/project/FIRe-Fake-Italian-Restaurants-evaluator/analysis/Indexes.py\u001b[0m in \u001b[0;36minv_index\u001b[0;34m(corpus, all_tokens)\u001b[0m\n\u001b[1;32m    148\u001b[0m         \u001b[0mdocuments\u001b[0m \u001b[0;34m=\u001b[0m \u001b[0;34m[\u001b[0m\u001b[0;34m]\u001b[0m\u001b[0;34m\u001b[0m\u001b[0;34m\u001b[0m\u001b[0m\n\u001b[1;32m    149\u001b[0m         \u001b[0;32mfor\u001b[0m \u001b[0mkey\u001b[0m\u001b[0;34m,\u001b[0m \u001b[0mvalue\u001b[0m \u001b[0;32min\u001b[0m \u001b[0mcorpus\u001b[0m\u001b[0;34m.\u001b[0m\u001b[0mitems\u001b[0m\u001b[0;34m(\u001b[0m\u001b[0;34m)\u001b[0m\u001b[0;34m:\u001b[0m\u001b[0;34m\u001b[0m\u001b[0;34m\u001b[0m\u001b[0m\n\u001b[0;32m--> 150\u001b[0;31m             \u001b[0mtokens\u001b[0m \u001b[0;34m=\u001b[0m \u001b[0mget_tokens_stopw\u001b[0m\u001b[0;34m(\u001b[0m\u001b[0mvalue\u001b[0m\u001b[0;34m)\u001b[0m\u001b[0;34m\u001b[0m\u001b[0;34m\u001b[0m\u001b[0m\n\u001b[0m\u001b[1;32m    151\u001b[0m             \u001b[0;32mif\u001b[0m \u001b[0mtok\u001b[0m \u001b[0;32min\u001b[0m \u001b[0mtokens\u001b[0m\u001b[0;34m:\u001b[0m\u001b[0;34m\u001b[0m\u001b[0;34m\u001b[0m\u001b[0m\n\u001b[1;32m    152\u001b[0m                 \u001b[0mdocuments\u001b[0m\u001b[0;34m.\u001b[0m\u001b[0mappend\u001b[0m\u001b[0;34m(\u001b[0m\u001b[0mkey\u001b[0m\u001b[0;34m)\u001b[0m\u001b[0;34m\u001b[0m\u001b[0;34m\u001b[0m\u001b[0m\n",
      "\u001b[0;32m/Users/Matteo/Desktop/NLP/project/FIRe-Fake-Italian-Restaurants-evaluator/analysis/Indexes.py\u001b[0m in \u001b[0;36mget_tokens_stopw\u001b[0;34m(text)\u001b[0m\n\u001b[1;32m     36\u001b[0m \u001b[0;32mdef\u001b[0m \u001b[0mget_tokens_stopw\u001b[0m\u001b[0;34m(\u001b[0m\u001b[0mtext\u001b[0m\u001b[0;34m)\u001b[0m\u001b[0;34m:\u001b[0m\u001b[0;34m\u001b[0m\u001b[0;34m\u001b[0m\u001b[0m\n\u001b[1;32m     37\u001b[0m     \u001b[0mpunkt_sentences\u001b[0m \u001b[0;34m=\u001b[0m \u001b[0msentence_tokenizer\u001b[0m\u001b[0;34m.\u001b[0m\u001b[0mtokenize\u001b[0m\u001b[0;34m(\u001b[0m\u001b[0mtext\u001b[0m\u001b[0;34m)\u001b[0m\u001b[0;34m\u001b[0m\u001b[0;34m\u001b[0m\u001b[0m\n\u001b[0;32m---> 38\u001b[0;31m     \u001b[0msentences_words\u001b[0m \u001b[0;34m=\u001b[0m \u001b[0;34m[\u001b[0m\u001b[0mtreebank_tokenizer\u001b[0m\u001b[0;34m.\u001b[0m\u001b[0mtokenize\u001b[0m\u001b[0;34m(\u001b[0m\u001b[0msentence\u001b[0m\u001b[0;34m)\u001b[0m \u001b[0;32mfor\u001b[0m \u001b[0msentence\u001b[0m \u001b[0;32min\u001b[0m \u001b[0mpunkt_sentences\u001b[0m\u001b[0;34m]\u001b[0m\u001b[0;34m\u001b[0m\u001b[0;34m\u001b[0m\u001b[0m\n\u001b[0m\u001b[1;32m     39\u001b[0m     \u001b[0mall_tokens\u001b[0m \u001b[0;34m=\u001b[0m \u001b[0;34m[\u001b[0m\u001b[0mword\u001b[0m \u001b[0;32mfor\u001b[0m \u001b[0msentence\u001b[0m \u001b[0;32min\u001b[0m \u001b[0msentences_words\u001b[0m \u001b[0;32mfor\u001b[0m \u001b[0mword\u001b[0m \u001b[0;32min\u001b[0m \u001b[0msentence\u001b[0m\u001b[0;34m]\u001b[0m\u001b[0;34m\u001b[0m\u001b[0;34m\u001b[0m\u001b[0m\n\u001b[1;32m     40\u001b[0m     \u001b[0mall_tokens\u001b[0m \u001b[0;34m=\u001b[0m \u001b[0;34m[\u001b[0m\u001b[0mword\u001b[0m\u001b[0;34m.\u001b[0m\u001b[0mlower\u001b[0m\u001b[0;34m(\u001b[0m\u001b[0;34m)\u001b[0m \u001b[0;32mfor\u001b[0m \u001b[0mword\u001b[0m \u001b[0;32min\u001b[0m \u001b[0mall_tokens\u001b[0m \u001b[0;32mif\u001b[0m \u001b[0mword\u001b[0m\u001b[0;34m.\u001b[0m\u001b[0misalpha\u001b[0m\u001b[0;34m(\u001b[0m\u001b[0;34m)\u001b[0m\u001b[0;34m]\u001b[0m\u001b[0;34m\u001b[0m\u001b[0;34m\u001b[0m\u001b[0m\n",
      "\u001b[0;32m/Users/Matteo/Desktop/NLP/project/FIRe-Fake-Italian-Restaurants-evaluator/analysis/Indexes.py\u001b[0m in \u001b[0;36m<listcomp>\u001b[0;34m(.0)\u001b[0m\n\u001b[1;32m     36\u001b[0m \u001b[0;32mdef\u001b[0m \u001b[0mget_tokens_stopw\u001b[0m\u001b[0;34m(\u001b[0m\u001b[0mtext\u001b[0m\u001b[0;34m)\u001b[0m\u001b[0;34m:\u001b[0m\u001b[0;34m\u001b[0m\u001b[0;34m\u001b[0m\u001b[0m\n\u001b[1;32m     37\u001b[0m     \u001b[0mpunkt_sentences\u001b[0m \u001b[0;34m=\u001b[0m \u001b[0msentence_tokenizer\u001b[0m\u001b[0;34m.\u001b[0m\u001b[0mtokenize\u001b[0m\u001b[0;34m(\u001b[0m\u001b[0mtext\u001b[0m\u001b[0;34m)\u001b[0m\u001b[0;34m\u001b[0m\u001b[0;34m\u001b[0m\u001b[0m\n\u001b[0;32m---> 38\u001b[0;31m     \u001b[0msentences_words\u001b[0m \u001b[0;34m=\u001b[0m \u001b[0;34m[\u001b[0m\u001b[0mtreebank_tokenizer\u001b[0m\u001b[0;34m.\u001b[0m\u001b[0mtokenize\u001b[0m\u001b[0;34m(\u001b[0m\u001b[0msentence\u001b[0m\u001b[0;34m)\u001b[0m \u001b[0;32mfor\u001b[0m \u001b[0msentence\u001b[0m \u001b[0;32min\u001b[0m \u001b[0mpunkt_sentences\u001b[0m\u001b[0;34m]\u001b[0m\u001b[0;34m\u001b[0m\u001b[0;34m\u001b[0m\u001b[0m\n\u001b[0m\u001b[1;32m     39\u001b[0m     \u001b[0mall_tokens\u001b[0m \u001b[0;34m=\u001b[0m \u001b[0;34m[\u001b[0m\u001b[0mword\u001b[0m \u001b[0;32mfor\u001b[0m \u001b[0msentence\u001b[0m \u001b[0;32min\u001b[0m \u001b[0msentences_words\u001b[0m \u001b[0;32mfor\u001b[0m \u001b[0mword\u001b[0m \u001b[0;32min\u001b[0m \u001b[0msentence\u001b[0m\u001b[0;34m]\u001b[0m\u001b[0;34m\u001b[0m\u001b[0;34m\u001b[0m\u001b[0m\n\u001b[1;32m     40\u001b[0m     \u001b[0mall_tokens\u001b[0m \u001b[0;34m=\u001b[0m \u001b[0;34m[\u001b[0m\u001b[0mword\u001b[0m\u001b[0;34m.\u001b[0m\u001b[0mlower\u001b[0m\u001b[0;34m(\u001b[0m\u001b[0;34m)\u001b[0m \u001b[0;32mfor\u001b[0m \u001b[0mword\u001b[0m \u001b[0;32min\u001b[0m \u001b[0mall_tokens\u001b[0m \u001b[0;32mif\u001b[0m \u001b[0mword\u001b[0m\u001b[0;34m.\u001b[0m\u001b[0misalpha\u001b[0m\u001b[0;34m(\u001b[0m\u001b[0;34m)\u001b[0m\u001b[0;34m]\u001b[0m\u001b[0;34m\u001b[0m\u001b[0;34m\u001b[0m\u001b[0m\n",
      "\u001b[0;32m/Users/Matteo/opt/anaconda3/lib/python3.7/site-packages/nltk/tokenize/treebank.py\u001b[0m in \u001b[0;36mtokenize\u001b[0;34m(self, text, convert_parentheses, return_str)\u001b[0m\n\u001b[1;32m    138\u001b[0m \u001b[0;34m\u001b[0m\u001b[0m\n\u001b[1;32m    139\u001b[0m         \u001b[0;32mfor\u001b[0m \u001b[0mregexp\u001b[0m\u001b[0;34m,\u001b[0m \u001b[0msubstitution\u001b[0m \u001b[0;32min\u001b[0m \u001b[0mself\u001b[0m\u001b[0;34m.\u001b[0m\u001b[0mENDING_QUOTES\u001b[0m\u001b[0;34m:\u001b[0m\u001b[0;34m\u001b[0m\u001b[0;34m\u001b[0m\u001b[0m\n\u001b[0;32m--> 140\u001b[0;31m             \u001b[0mtext\u001b[0m \u001b[0;34m=\u001b[0m \u001b[0mregexp\u001b[0m\u001b[0;34m.\u001b[0m\u001b[0msub\u001b[0m\u001b[0;34m(\u001b[0m\u001b[0msubstitution\u001b[0m\u001b[0;34m,\u001b[0m \u001b[0mtext\u001b[0m\u001b[0;34m)\u001b[0m\u001b[0;34m\u001b[0m\u001b[0;34m\u001b[0m\u001b[0m\n\u001b[0m\u001b[1;32m    141\u001b[0m \u001b[0;34m\u001b[0m\u001b[0m\n\u001b[1;32m    142\u001b[0m         \u001b[0;32mfor\u001b[0m \u001b[0mregexp\u001b[0m \u001b[0;32min\u001b[0m \u001b[0mself\u001b[0m\u001b[0;34m.\u001b[0m\u001b[0mCONTRACTIONS2\u001b[0m\u001b[0;34m:\u001b[0m\u001b[0;34m\u001b[0m\u001b[0;34m\u001b[0m\u001b[0m\n",
      "\u001b[0;32m/Users/Matteo/opt/anaconda3/lib/python3.7/re.py\u001b[0m in \u001b[0;36m_subx\u001b[0;34m(pattern, template)\u001b[0m\n\u001b[1;32m    307\u001b[0m \u001b[0;32mdef\u001b[0m \u001b[0m_subx\u001b[0m\u001b[0;34m(\u001b[0m\u001b[0mpattern\u001b[0m\u001b[0;34m,\u001b[0m \u001b[0mtemplate\u001b[0m\u001b[0;34m)\u001b[0m\u001b[0;34m:\u001b[0m\u001b[0;34m\u001b[0m\u001b[0;34m\u001b[0m\u001b[0m\n\u001b[1;32m    308\u001b[0m     \u001b[0;31m# internal: Pattern.sub/subn implementation helper\u001b[0m\u001b[0;34m\u001b[0m\u001b[0;34m\u001b[0m\u001b[0;34m\u001b[0m\u001b[0m\n\u001b[0;32m--> 309\u001b[0;31m     \u001b[0mtemplate\u001b[0m \u001b[0;34m=\u001b[0m \u001b[0m_compile_repl\u001b[0m\u001b[0;34m(\u001b[0m\u001b[0mtemplate\u001b[0m\u001b[0;34m,\u001b[0m \u001b[0mpattern\u001b[0m\u001b[0;34m)\u001b[0m\u001b[0;34m\u001b[0m\u001b[0;34m\u001b[0m\u001b[0m\n\u001b[0m\u001b[1;32m    310\u001b[0m     \u001b[0;32mif\u001b[0m \u001b[0;32mnot\u001b[0m \u001b[0mtemplate\u001b[0m\u001b[0;34m[\u001b[0m\u001b[0;36m0\u001b[0m\u001b[0;34m]\u001b[0m \u001b[0;32mand\u001b[0m \u001b[0mlen\u001b[0m\u001b[0;34m(\u001b[0m\u001b[0mtemplate\u001b[0m\u001b[0;34m[\u001b[0m\u001b[0;36m1\u001b[0m\u001b[0;34m]\u001b[0m\u001b[0;34m)\u001b[0m \u001b[0;34m==\u001b[0m \u001b[0;36m1\u001b[0m\u001b[0;34m:\u001b[0m\u001b[0;34m\u001b[0m\u001b[0;34m\u001b[0m\u001b[0m\n\u001b[1;32m    311\u001b[0m         \u001b[0;31m# literal replacement\u001b[0m\u001b[0;34m\u001b[0m\u001b[0;34m\u001b[0m\u001b[0;34m\u001b[0m\u001b[0m\n",
      "\u001b[0;31mKeyboardInterrupt\u001b[0m: "
     ]
    }
   ],
   "source": [
    "term_docs = inv_index(Background_Corpora_Json, all_tokens)"
   ]
  },
  {
   "cell_type": "code",
   "execution_count": null,
   "metadata": {},
   "outputs": [],
   "source": [
    "print('Example of Inverted Index: ')\n",
    "print(term_docs[:4])"
   ]
  },
  {
   "cell_type": "code",
   "execution_count": null,
   "metadata": {},
   "outputs": [],
   "source": [
    "grams_dic = term_grams(all_tokens, all_ngrams)"
   ]
  },
  {
   "cell_type": "code",
   "execution_count": null,
   "metadata": {},
   "outputs": [],
   "source": [
    "print('Example of grams associated with term: ')\n",
    "print(grams_dic[:2])"
   ]
  },
  {
   "cell_type": "markdown",
   "metadata": {},
   "source": [
    "## Examples from a Test corpus"
   ]
  },
  {
   "cell_type": "markdown",
   "metadata": {},
   "source": [
    "Here we read and analyze the 10 menus from our scraped corpus and provide some insights as follows"
   ]
  },
  {
   "cell_type": "code",
   "execution_count": 191,
   "metadata": {
    "scrolled": true
   },
   "outputs": [
    {
     "name": "stdout",
     "output_type": "stream",
     "text": [
      "{'Ristorante Piccolo - Washington, DC': ['melanzane formaggio capra', 'calamari fritti', 'fritti', 'portobello', 'asparagi', 'funghi quattro formaggio', 'scarpariello', 'cozze alla parigina', 'gamberoni fradiavolo', 'arancini ragù formaggio', 'antipasto', 'carpaccio salmone', 'burrata altopiano delle murge', 'pappa pomodoro', 'fagioli alla veneto', 'margherita siciliano', 'ragu bolognese', 'pollo grigliata pesto', 'bruschetta pomodori', 'bruschetta caponata', 'bruschetta granchio', 'insalata mista', 'insalata cesare', 'insalata finocchio noci', 'insalata frutti', 'insalata pomodoro basilico', 'insalata arugula', 'insalata toscano tritare', 'caprese', 'italian burger', 'italiano hoagie', 'pollo parmigiano hoagie', 'italian salume hoagie', 'portobello', 'puttanesca', 'rigatoni gorgonzola', 'bucatini bolognese', 'paisano', 'capellini pomodoro', 'risotto porcini', 'agnolotti porcini', 'gnocchi spampinato', 'aragosta', 'verde', 'tortellini carbonara', 'polpettone', 'verdura', 'manicotti', 'scaloppine vitello marsala', 'scaloppine pollo marsala', 'vitello parmigiano', 'melanzane parmigiano', 'pollo parmigiano', 'pollo milanese', 'bistecca tartufo', 'vitello piccata', 'petto pollo incrostato pistacche', 'cioppino tutto', 'frutti cartoccio', 'fettuccine oceano', 'linguine alle vongole', 'risotto frutti'], 'La Storia - Chicago, IL': ['insalata spinaci', 'salumi', 'zuppa giorno', 'vitello tonnato', 'burrata', 'calamari fritti', 'tartare tonno rosso', 'polpo arrosto', 'polpette', 'gnocchi alla genovese', 'neri alla carbonara', 'alla', 'tagliatelle verdi alla bolognese', 'malloreddus allo zafferano', 'alla bolognese', 'orecchitte pugliese', 'risotto allastice', 'risotto zucca', 'risotto funghi porcini', 'pesce del giorno', 'branzino livornese', 'baccala forno', 'tonno rosso alla griglia', 'tagliata manzo', 'pollo alla cacciatora', 'spalla maiale', 'stinco agnelo', 'caponata melanzane', 'sautee'], 'Portofino - Arlington, VA': ['cozze marinara', 'calamari fritti', 'croccante', 'prosciutto', 'involtini melanzane', 'antipasto italiano', 'frutti', 'minestrone', 'zuppe polpettini', 'tortellini brodo', 'insalata portofino', 'insalata caprese', 'insalata spinacio', 'insalata veronese', 'insalata cesare', 'insalata verde', 'orecchiette quattro funghi', 'portofino', 'linguini vongole', 'melanzane portofino', 'linguini pesto genovese', 'gnocchi alla portofino', 'lasagne bolognese', 'bucatini alla carbonara', 'cannelloni', 'linguine', 'tortellini vitello suo piacere', 'risotto aragosta zafferano', 'fettucine alla alfredo', 'saltimboca alla romana', 'cotoletta alla parmigiana', 'costoletta vitello alla fiorentina', 'scalloppine alla sorrentina', 'bocconcini dello', 'picatta vitello', 'scalloppine marsala', 'scalloppine alla triestina', 'petto pollo marsala', 'picatta pollo', 'pollo portofino', 'pollo alla rustica', 'filetto alla gorgonzola', 'filetto alla vinci', 'bistecca pizzaiola', 'costolette dagnello', 'omaggi nettuno', 'santé pomodoro basilico', 'scampi diavola', 'cioppino', 'cacciuco livornese', 'almondine', 'gamberi'], 'Otello - Washington, DC': ['antipasto', 'fritti', 'insalata capri', 'bruschetta capri', 'scarola stufata', 'carrozza', 'prosciutto melone', 'peperoni alla griglia', 'insalata mista', 'amp fagioli', 'caesar', 'linguine burli', 'linguine alle vongole', 'linguine seafoo', 'capellini formaggio episelli', 'alla bolognese', 'pomodoro basilico', 'gnocchi della casa', 'tortellini alla crema funghi', 'tortellini basilico', 'penne alla salsiccia', 'fettuccine alfredo', 'penne puttanesca', 'penne alla sorrentina', 'rigatoni mirella', 'rigatoni alla', 'saltimbocca alla romana', 'scaloppini alla michele', 'rulata pollo', 'petti pollo peperoni', 'piccata limone', 'cuscinetti vitello', 'calamari piacere', 'zuppa pesce', 'capesante alla diavolo', 'trota alla livornese', 'sogliola alla fiorentina', 'baccala alla pescatore', 'salmone alla caprese', 'tartufo', 'espresso', 'cappuccino'], 'I Ricchi - Washington, DC': ['buratta bufala', 'polipo panzanella', 'cozze', 'calamari', 'polpette', 'prosciutto melone', 'salsiccie amp fagioli', 'funghi farciti', 'ribollita', 'funghi', 'insalata mista', 'barbabietola', 'tonno conserva', 'caprese', 'alla romagnola', 'vegetariano', 'tortelloni', 'rigatoni strascicate', 'tagliarini vongole', 'pici allaglione', 'cavatelli neri', 'risotto del giorno', 'del giorno', 'pesce del giorno', 'tagliata', 'capesante amp gamberi', 'trota', 'pollo paillar', 'costoletta alla milanese', 'bietola', 'patate alla ghiotta', 'fagioli'], 'Il Canale - Washington, DC': ['prosciutto bufala', 'bruschetta', 'bresaola', 'prosciutto melone', 'arancini siciliani', 'polpette sugo', 'impepata cozze', 'carrozza', 'focaccia', 'classico', 'pollo', 'imbottito', 'margherita', 'diavola', 'quattro formaggi', 'georgetown', 'vegetariana rossa', 'calzone', 'tunnarella', 'ciliegina', 'caesar', 'caprese', 'tagliata manzo', 'rolle pollo', 'branzino cartoccio', 'salmone alla', 'gnocchi', 'pomodoro pesto', 'scialatielli allo scoglio', 'cannelloni'], 'Valentinos - Nashville, TN': ['antipasto toscano', 'calamari fritti', 'prosciutto', 'scampi forno', 'valentinos flatbrea', 'oreganata', 'marinara', 'carpaccio', 'caesar', 'arugula', 'fagioli', 'caprese', 'frutti', 'gnocchi', 'risotto del giorno', 'bucatini', 'gigli toscano', 'garganelli', 'espresso rubb', 'ribeye', 'manhattan', 'scarpariello', 'scottish', 'parmesan', 'saltimbocca', 'osso bucco', 'cioppino', 'pancetta scamorza', 'cacio pepe', 'sauté', 'prosciutto wrapp', 'tiramisu', 'flourless'], 'Osteria la Spiga - Seattle, WA': ['cestino piadina', 'cestino gnocco fritto', 'affettati misti', 'prosciutto', 'formaggi misti', 'grigliate', 'tortelli agli asparagi', 'tagliolini sugo stridoli', 'gnocchi pomodoro', 'tagliatelle tartufo', 'tagliatelle ragu', 'lasagne verdi', 'stinco maiale forno', 'stuzzichini del giorno', 'vellutata zucca mais', 'patate arrosto', 'fritta', 'insalata', 'insalata mista della casa', 'ciambella', 'il mascarpone ida', 'panna', 'nocciola'], 'Via dei Tribunali - Seattle, WA': ['marinara', 'margherita', 'margherita ', 'quattro formaggi', 'tribunali specialita della casa', 'puttanesca', 'funghi', 'prosciutto crudo', 'prosciutto funghi', 'quattro stagioni', 'salame', 'dante', 'spaccanapoli', 'misto salumi', 'salsiccia rapini', 'salsiccia cipolla', 'salsiccia', 'lupino', 'capricciosa', 'spinaci', 'tonno', 'vongole', 'campania', 'salsiccia peperoni cipolle', 'misto salumi', 'bufala prosciutto', 'pomodori forno', 'burrata', 'insalata', 'insalata della casa', 'insalata caesar', 'vongole', 'polpette pomodoro', 'forno', 'linguine vongole', 'rigatoni bolognese', 'calzone salame', 'calzone napoletano', 'vesuvio specialita della casa', 'tiramisu', 'affogato', 'mezza', 'panna', 'caffe espresso', 'americano', 'cappuccino'], 'Il Terrazzo Carmine - Seattle, WA': ['calamari affogati', 'carpaccio bue', 'spinaci soffritti', 'gamberoni provinciale', 'insalata caesar', 'insalata mista', 'insalata caprese', 'insalata campagnola', 'insalata manzo', 'insalata pollo suprema', 'insalata portofino', 'gamberi', 'crema cavolfiore', 'fagioli scarola', 'spaghettini ortolano', 'gnocchi alla sorrentina', 'linquine alle vongole', 'pennette salmone', 'ravioloni pesce', 'fettuccine pesto gamberi', 'rigatoni bolognese', 'capellini', 'capriolo', 'cannelloni napoletani', 'risotto del giorno', 'piccata vitello capperi', 'suprema pollo alla griglia', 'parmigiana melanzane', 'animelle prosciutto asparaci', 'cioppino napoletano', 'costata maiale', 'bistecca pepe', 'pesce del giorno']}\n"
     ]
    }
   ],
   "source": [
    "# Importing the background corpus\n",
    "with open('data/Test Corpus.json', 'r') as j:\n",
    "        Test_Corpus_Json = json.load(j)\n",
    "print(Test_Corpus_Json)"
   ]
  },
  {
   "cell_type": "code",
   "execution_count": 174,
   "metadata": {},
   "outputs": [
    {
     "ename": "TypeError",
     "evalue": "unhashable type: 'slice'",
     "output_type": "error",
     "traceback": [
      "\u001b[0;31m---------------------------------------------------------------------------\u001b[0m",
      "\u001b[0;31mTypeError\u001b[0m                                 Traceback (most recent call last)",
      "\u001b[0;32m<ipython-input-174-276f278eedd3>\u001b[0m in \u001b[0;36m<module>\u001b[0;34m()\u001b[0m\n\u001b[1;32m      1\u001b[0m \u001b[0mall_tokens_test\u001b[0m \u001b[0;34m=\u001b[0m \u001b[0mget_tokens_test\u001b[0m\u001b[0;34m(\u001b[0m\u001b[0mTest_Corpus_Json\u001b[0m\u001b[0;34m)\u001b[0m\u001b[0;34m\u001b[0m\u001b[0;34m\u001b[0m\u001b[0m\n\u001b[0;32m----> 2\u001b[0;31m \u001b[0mall_tokens_test\u001b[0m\u001b[0;34m[\u001b[0m\u001b[0;34m:\u001b[0m\u001b[0;36m20\u001b[0m\u001b[0;34m]\u001b[0m\u001b[0;34m\u001b[0m\u001b[0;34m\u001b[0m\u001b[0m\n\u001b[0m",
      "\u001b[0;31mTypeError\u001b[0m: unhashable type: 'slice'"
     ]
    }
   ],
   "source": [
    "all_tokens_test = get_tokens_test(Test_Corpus_Json)\n",
    "all_tokens_test[:20]"
   ]
  },
  {
   "cell_type": "code",
   "execution_count": 175,
   "metadata": {},
   "outputs": [
    {
     "ename": "TypeError",
     "evalue": "unhashable type: 'slice'",
     "output_type": "error",
     "traceback": [
      "\u001b[0;31m---------------------------------------------------------------------------\u001b[0m",
      "\u001b[0;31mTypeError\u001b[0m                                 Traceback (most recent call last)",
      "\u001b[0;32m<ipython-input-175-e3797d93a8d0>\u001b[0m in \u001b[0;36m<module>\u001b[0;34m()\u001b[0m\n\u001b[1;32m      1\u001b[0m \u001b[0mmenus\u001b[0m \u001b[0;34m=\u001b[0m \u001b[0mset_menu\u001b[0m\u001b[0;34m(\u001b[0m\u001b[0mall_tokens_test\u001b[0m\u001b[0;34m)\u001b[0m\u001b[0;34m\u001b[0m\u001b[0;34m\u001b[0m\u001b[0m\n\u001b[0;32m----> 2\u001b[0;31m \u001b[0mmenus\u001b[0m\u001b[0;34m[\u001b[0m\u001b[0;34m:\u001b[0m\u001b[0;36m5\u001b[0m\u001b[0;34m]\u001b[0m\u001b[0;34m\u001b[0m\u001b[0;34m\u001b[0m\u001b[0m\n\u001b[0m",
      "\u001b[0;31mTypeError\u001b[0m: unhashable type: 'slice'"
     ]
    }
   ],
   "source": [
    "menus = set_menu(all_tokens_test)\n",
    "menus[:5]"
   ]
  },
  {
   "cell_type": "markdown",
   "metadata": {},
   "source": [
    "### Check for typos in the menus"
   ]
  },
  {
   "cell_type": "code",
   "execution_count": 176,
   "metadata": {},
   "outputs": [],
   "source": [
    "final_results = {}\n",
    "for key, value in menus.items():\n",
    "    result, errs = checker(words_freq.keys(), value)\n",
    "    final_results[key] = result, errs"
   ]
  },
  {
   "cell_type": "code",
   "execution_count": 185,
   "metadata": {},
   "outputs": [],
   "source": [
    "# cell to delete eventually once found out about the module error\n",
    "def scoring(result):\n",
    "    if result <= 5:\n",
    "        scores = 5\n",
    "        img = mpimg.imread('images/nonna-open.jpg')\n",
    "    elif result >= 6 and result <= 10:\n",
    "        scores = 4\n",
    "        img = mpimg.imread('images/Red-Sauce-Raos.jpg')\n",
    "    elif result >= 11 and result <= 15:\n",
    "        scores = 3\n",
    "        img = mpimg.imread('images/rosie-s-italian-grille.jpg')\n",
    "    elif result >= 16 and result <= 20:\n",
    "        scores = 2\n",
    "        img = mpimg.imread('images/olive_garden.jpg')\n",
    "    else:\n",
    "        scores = 1\n",
    "        img = mpimg.imread('images/pizza_deep.jpg')\n",
    "\n",
    "    return scores, img"
   ]
  },
  {
   "cell_type": "markdown",
   "metadata": {},
   "source": [
    "### Assign our scores to each menu"
   ]
  },
  {
   "cell_type": "code",
   "execution_count": 186,
   "metadata": {},
   "outputs": [],
   "source": [
    "dic_scoring = {}\n",
    "for key, value in final_results.items():\n",
    "    score, img = scoring(value[0])\n",
    "    dic_scoring[key] = value, score, img"
   ]
  },
  {
   "cell_type": "code",
   "execution_count": 187,
   "metadata": {},
   "outputs": [],
   "source": [
    "df_errors = []\n",
    "for key, value in dic_scoring.items():\n",
    "    df = {'Restaurant': key, 'Errors': value[0][1], '# Errors': value[0][0], 'Score': value[1]}\n",
    "    df_errors.append(df)\n",
    "df_errors = pd.DataFrame(df_errors, columns=['Restaurant', 'Errors','# Errors', 'Score'])"
   ]
  },
  {
   "cell_type": "markdown",
   "metadata": {},
   "source": [
    "### Here's how these restaurants performed and what mistakes our program detected"
   ]
  },
  {
   "cell_type": "code",
   "execution_count": 188,
   "metadata": {
    "scrolled": false
   },
   "outputs": [
    {
     "data": {
      "text/html": [
       "<div>\n",
       "<style scoped>\n",
       "    .dataframe tbody tr th:only-of-type {\n",
       "        vertical-align: middle;\n",
       "    }\n",
       "\n",
       "    .dataframe tbody tr th {\n",
       "        vertical-align: top;\n",
       "    }\n",
       "\n",
       "    .dataframe thead th {\n",
       "        text-align: right;\n",
       "    }\n",
       "</style>\n",
       "<table border=\"1\" class=\"dataframe\">\n",
       "  <thead>\n",
       "    <tr style=\"text-align: right;\">\n",
       "      <th></th>\n",
       "      <th>Restaurant</th>\n",
       "      <th>Errors</th>\n",
       "      <th># Errors</th>\n",
       "      <th>Score</th>\n",
       "    </tr>\n",
       "  </thead>\n",
       "  <tbody>\n",
       "    <tr>\n",
       "      <th>5</th>\n",
       "      <td>Il Canale - Washington, DC</td>\n",
       "      <td>[georgetown, rolle, tunnarella, ciliegina, imb...</td>\n",
       "      <td>5</td>\n",
       "      <td>5</td>\n",
       "    </tr>\n",
       "    <tr>\n",
       "      <th>1</th>\n",
       "      <td>La Storia - Chicago, IL</td>\n",
       "      <td>[neri, orecchitte, spalla, agnelo, malloreddus...</td>\n",
       "      <td>6</td>\n",
       "      <td>4</td>\n",
       "    </tr>\n",
       "    <tr>\n",
       "      <th>7</th>\n",
       "      <td>Osteria la Spiga - Seattle, WA</td>\n",
       "      <td>[ragu, piadina, cestino, stuzzichini, ida, gno...</td>\n",
       "      <td>7</td>\n",
       "      <td>4</td>\n",
       "    </tr>\n",
       "    <tr>\n",
       "      <th>4</th>\n",
       "      <td>I Ricchi - Washington, DC</td>\n",
       "      <td>[romagnola, salsiccie, trota, buratta, paillar...</td>\n",
       "      <td>14</td>\n",
       "      <td>3</td>\n",
       "    </tr>\n",
       "    <tr>\n",
       "      <th>8</th>\n",
       "      <td>Via dei Tribunali - Seattle, WA</td>\n",
       "      <td>[cappuccino, caffe, espresso, puttanesca, dant...</td>\n",
       "      <td>11</td>\n",
       "      <td>3</td>\n",
       "    </tr>\n",
       "    <tr>\n",
       "      <th>9</th>\n",
       "      <td>Il Terrazzo Carmine - Seattle, WA</td>\n",
       "      <td>[affogati, ortolano, spaghettini, asparaci, an...</td>\n",
       "      <td>15</td>\n",
       "      <td>3</td>\n",
       "    </tr>\n",
       "    <tr>\n",
       "      <th>3</th>\n",
       "      <td>Otello - Washington, DC</td>\n",
       "      <td>[cappuccino, episelli, trota, espresso, mirell...</td>\n",
       "      <td>18</td>\n",
       "      <td>2</td>\n",
       "    </tr>\n",
       "    <tr>\n",
       "      <th>6</th>\n",
       "      <td>Valentinos - Nashville, TN</td>\n",
       "      <td>[arugula, parmesan, manhattan, scottish, espre...</td>\n",
       "      <td>18</td>\n",
       "      <td>2</td>\n",
       "    </tr>\n",
       "    <tr>\n",
       "      <th>0</th>\n",
       "      <td>Ristorante Piccolo - Washington, DC</td>\n",
       "      <td>[arugula, cioppino, altopiano, parigina, scarp...</td>\n",
       "      <td>26</td>\n",
       "      <td>1</td>\n",
       "    </tr>\n",
       "    <tr>\n",
       "      <th>2</th>\n",
       "      <td>Portofino - Arlington, VA</td>\n",
       "      <td>[vinci, omaggi, veronese, picatta, cioppino, a...</td>\n",
       "      <td>24</td>\n",
       "      <td>1</td>\n",
       "    </tr>\n",
       "  </tbody>\n",
       "</table>\n",
       "</div>"
      ],
      "text/plain": [
       "                            Restaurant  \\\n",
       "5           Il Canale - Washington, DC   \n",
       "1              La Storia - Chicago, IL   \n",
       "7       Osteria la Spiga - Seattle, WA   \n",
       "4            I Ricchi - Washington, DC   \n",
       "8      Via dei Tribunali - Seattle, WA   \n",
       "9    Il Terrazzo Carmine - Seattle, WA   \n",
       "3              Otello - Washington, DC   \n",
       "6           Valentinos - Nashville, TN   \n",
       "0  Ristorante Piccolo - Washington, DC   \n",
       "2            Portofino - Arlington, VA   \n",
       "\n",
       "                                              Errors  # Errors  Score  \n",
       "5  [georgetown, rolle, tunnarella, ciliegina, imb...         5      5  \n",
       "1  [neri, orecchitte, spalla, agnelo, malloreddus...         6      4  \n",
       "7  [ragu, piadina, cestino, stuzzichini, ida, gno...         7      4  \n",
       "4  [romagnola, salsiccie, trota, buratta, paillar...        14      3  \n",
       "8  [cappuccino, caffe, espresso, puttanesca, dant...        11      3  \n",
       "9  [affogati, ortolano, spaghettini, asparaci, an...        15      3  \n",
       "3  [cappuccino, episelli, trota, espresso, mirell...        18      2  \n",
       "6  [arugula, parmesan, manhattan, scottish, espre...        18      2  \n",
       "0  [arugula, cioppino, altopiano, parigina, scarp...        26      1  \n",
       "2  [vinci, omaggi, veronese, picatta, cioppino, a...        24      1  "
      ]
     },
     "execution_count": 188,
     "metadata": {},
     "output_type": "execute_result"
    }
   ],
   "source": [
    "df_errors.sort_values('Score', ascending=False)"
   ]
  },
  {
   "cell_type": "code",
   "execution_count": 189,
   "metadata": {
    "scrolled": false
   },
   "outputs": [
    {
     "name": "stdout",
     "output_type": "stream",
     "text": [
      "------------------\n",
      "Restaurant:  Il Canale - Washington, DC\n",
      "# Errors:  5\n",
      "Errors:  ['georgetown', 'rolle', 'tunnarella', 'ciliegina', 'imbottito']\n",
      "Score:  5\n",
      "------------------\n",
      "Restaurant:  La Storia - Chicago, IL\n",
      "# Errors:  6\n",
      "Errors:  ['neri', 'orecchitte', 'spalla', 'agnelo', 'malloreddus', 'sautee']\n",
      "Score:  4\n",
      "------------------\n",
      "Restaurant:  Osteria la Spiga - Seattle, WA\n",
      "# Errors:  7\n",
      "Errors:  ['ragu', 'piadina', 'cestino', 'stuzzichini', 'ida', 'gnocco', 'stridoli']\n",
      "Score:  4\n",
      "------------------\n",
      "Restaurant:  Via dei Tribunali - Seattle, WA\n",
      "# Errors:  11\n",
      "Errors:  ['cappuccino', 'caffe', 'espresso', 'puttanesca', 'dante', 'tribunali', 'campania', 'specialita', 'lupino', 'americano', 'spaccanapoli']\n",
      "Score:  3\n",
      "------------------\n",
      "Restaurant:  I Ricchi - Washington, DC\n",
      "# Errors:  14\n",
      "Errors:  ['romagnola', 'salsiccie', 'trota', 'buratta', 'paillar', 'costoletta', 'tortelloni', 'cavatelli', 'tagliarini', 'neri', 'bietola', 'allaglione', 'strascicate', 'vegetariano']\n",
      "Score:  3\n",
      "------------------\n",
      "Restaurant:  Il Terrazzo Carmine - Seattle, WA\n",
      "# Errors:  15\n",
      "Errors:  ['affogati', 'ortolano', 'spaghettini', 'asparaci', 'animelle', 'soffritti', 'capellini', 'ravioloni', 'piccata', 'campagnola', 'cioppino', 'provinciale', 'linquine', 'bue', 'capriolo']\n",
      "Score:  3\n",
      "------------------\n",
      "Restaurant:  Valentinos - Nashville, TN\n",
      "# Errors:  18\n",
      "Errors:  ['arugula', 'parmesan', 'manhattan', 'scottish', 'espresso', 'scarpariello', 'bucatini', 'gigli', 'flourless', 'flatbrea', 'osso', 'ribeye', 'wrapp', 'rubb', 'cioppino', 'oreganata', 'bucco', 'valentinos']\n",
      "Score:  2\n",
      "------------------\n",
      "Restaurant:  Otello - Washington, DC\n",
      "# Errors:  18\n",
      "Errors:  ['cappuccino', 'episelli', 'trota', 'espresso', 'mirella', 'puttanesca', 'sogliola', 'capellini', 'seafoo', 'tortellini', 'diavolo', 'piccata', 'burli', 'michele', 'scaloppini', 'rulata', 'alfredo', 'cuscinetti']\n",
      "Score:  2\n",
      "------------------\n",
      "Restaurant:  Portofino - Arlington, VA\n",
      "# Errors:  24\n",
      "Errors:  ['vinci', 'omaggi', 'veronese', 'picatta', 'cioppino', 'almondine', 'polpettini', 'linguini', 'bucatini', 'tortellini', 'nettuno', 'pizzaiola', 'spinacio', 'saltimboca', 'costoletta', 'triestina', 'italiano', 'fettucine', 'scalloppine', 'cesare', 'cacciuco', 'santé', 'alfredo', 'zuppe']\n",
      "Score:  1\n",
      "------------------\n",
      "Restaurant:  Ristorante Piccolo - Washington, DC\n",
      "# Errors:  26\n",
      "Errors:  ['arugula', 'cioppino', 'altopiano', 'parigina', 'scarpariello', 'bucatini', 'tortellini', 'italian', 'fradiavolo', 'paisano', 'oceano', 'manicotti', 'ragu', 'pistacche', 'veneto', 'italiano', 'salume', 'cesare', 'hoagie', 'puttanesca', 'capellini', 'piccata', 'murge', 'incrostato', 'spampinato', 'burger']\n",
      "Score:  1\n"
     ]
    }
   ],
   "source": [
    "for key, value in sorted(dic_scoring.items(), key=lambda x:x[1]):\n",
    "    print(\"------------------\")\n",
    "    print(\"Restaurant: \", key)\n",
    "    print(\"# Errors: \", value[0][0])\n",
    "    print(\"Errors: \", value[0][1])\n",
    "    print('Score: ', value[1])"
   ]
  },
  {
   "cell_type": "code",
   "execution_count": null,
   "metadata": {},
   "outputs": [],
   "source": []
  }
 ],
 "metadata": {
  "kernelspec": {
   "display_name": "Python 3",
   "language": "python",
   "name": "python3"
  },
  "language_info": {
   "codemirror_mode": {
    "name": "ipython",
    "version": 3
   },
   "file_extension": ".py",
   "mimetype": "text/x-python",
   "name": "python",
   "nbconvert_exporter": "python",
   "pygments_lexer": "ipython3",
   "version": "3.7.4"
  }
 },
 "nbformat": 4,
 "nbformat_minor": 2
}
