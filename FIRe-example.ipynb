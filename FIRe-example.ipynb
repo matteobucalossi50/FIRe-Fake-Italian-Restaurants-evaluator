{
 "cells": [
  {
   "cell_type": "markdown",
   "metadata": {},
   "source": [
    "# Example of FIRe scoring system on 10 menus"
   ]
  },
  {
   "cell_type": "code",
   "execution_count": 213,
   "metadata": {},
   "outputs": [],
   "source": [
    "import pandas as pd\n",
    "import simplejson as json\n",
    "from analysis.simple_spell import *\n",
    "from scrapers.TestCorpusScraper_editing import *\n",
    "from analysis.scoring import *\n",
    "from analysis.Indexes import *\n",
    "import warnings\n",
    "warnings.filterwarnings('ignore')\n"
   ]
  },
  {
   "cell_type": "markdown",
   "metadata": {},
   "source": [
    "## Background corpus "
   ]
  },
  {
   "cell_type": "markdown",
   "metadata": {},
   "source": [
    "The following code reads the corpus we created to assess authencity of restaurants' menu. We display some of the main features of this corpus as follows."
   ]
  },
  {
   "cell_type": "code",
   "execution_count": 214,
   "metadata": {},
   "outputs": [],
   "source": [
    "# Importing the background corpus\n",
    "with open('data/Background Corpora.json', 'r') as j:\n",
    "        Background_Corpora_Json = json.load(j)\n"
   ]
  },
  {
   "cell_type": "code",
   "execution_count": 215,
   "metadata": {
    "scrolled": true
   },
   "outputs": [],
   "source": [
    "all_tokens = get_alltokens(Background_Corpora_Json)"
   ]
  },
  {
   "cell_type": "code",
   "execution_count": 216,
   "metadata": {},
   "outputs": [
    {
     "name": "stdout",
     "output_type": "stream",
     "text": [
      "Example of tokens: \n",
      "['spaghetti', 'guanciale', 'tuorli', 'uova', 'medie', 'pecorino', 'romano', 'pepe', 'nero', 'preparare', 'carbonara', 'cominciate', 'mettendo', 'fuoco', 'pentola', 'lacqua', 'salata', 'cuocere', 'pasta', 'frattempo', 'eliminate', 'cotenna', 'tagliatelo', 'prima', 'fette', 'poi', 'striscioline', 'spesse', 'circa', 'cm']\n"
     ]
    }
   ],
   "source": [
    "print('Example of tokens: ')\n",
    "print(all_tokens[:30])"
   ]
  },
  {
   "cell_type": "code",
   "execution_count": 217,
   "metadata": {
    "scrolled": true
   },
   "outputs": [],
   "source": [
    "all_ngrams = ngrams_it(Background_Corpora_Json)"
   ]
  },
  {
   "cell_type": "code",
   "execution_count": 218,
   "metadata": {},
   "outputs": [
    {
     "name": "stdout",
     "output_type": "stream",
     "text": [
      "Example of trigrams: \n",
      "[['spaghetti', 'guanciale', 'tuorli'], ['guanciale', 'tuorli', 'di'], ['tuorli', 'di', 'uova'], ['di', 'uova', 'medie'], ['uova', 'medie', 'pecorino'], ['medie', 'pecorino', 'romano'], ['pecorino', 'romano', 'pepe'], ['romano', 'pepe', 'nero'], ['pepe', 'nero', 'per'], ['nero', 'per', 'preparare'], ['per', 'preparare', 'gli'], ['preparare', 'gli', 'spaghetti'], ['gli', 'spaghetti', 'alla'], ['spaghetti', 'alla', 'carbonara'], ['alla', 'carbonara', 'cominciate'], ['carbonara', 'cominciate', 'mettendo'], ['cominciate', 'mettendo', 'sul'], ['mettendo', 'sul', 'fuoco'], ['sul', 'fuoco', 'una'], ['fuoco', 'una', 'pentola']]\n"
     ]
    }
   ],
   "source": [
    "print('Example of trigrams: ')\n",
    "print(all_ngrams[:20])"
   ]
  },
  {
   "cell_type": "code",
   "execution_count": 219,
   "metadata": {
    "scrolled": true
   },
   "outputs": [],
   "source": [
    "words_freq = tf(Background_Corpora_Json)"
   ]
  },
  {
   "cell_type": "code",
   "execution_count": 220,
   "metadata": {},
   "outputs": [
    {
     "name": "stdout",
     "output_type": "stream",
     "text": [
      "Example of TF: \n",
      "{'spaghetti': 52, 'guanciale': 29, 'tuorli': 30, 'uova': 113, 'medie': 21, 'pecorino': 66, 'romano': 12, 'pepe': 271, 'nero': 137, 'preparare': 143, 'carbonara': 10, 'cominciate': 33, 'mettendo': 9, 'fuoco': 195, 'pentola': 60, 'lacqua': 68, 'salata': 47, 'cuocere': 83, 'pasta': 147, 'frattempo': 76}\n"
     ]
    }
   ],
   "source": [
    "print('Example of TF: ')\n",
    "print({k: words_freq[k] for k in list(words_freq)[:20]})"
   ]
  },
  {
   "cell_type": "code",
   "execution_count": 221,
   "metadata": {
    "scrolled": true
   },
   "outputs": [],
   "source": [
    "doc_terms = tf_doc(Background_Corpora_Json)"
   ]
  },
  {
   "cell_type": "code",
   "execution_count": 243,
   "metadata": {},
   "outputs": [
    {
     "name": "stdout",
     "output_type": "stream",
     "text": [
      "Example of TF per menu: \n",
      " \n",
      "{'0': {'spaghetti': 4, 'guanciale': 4, 'tuorli': 2, 'uova': 2, 'medie': 1, 'pecorino': 4, 'romano': 1, 'pepe': 3, 'nero': 3, 'preparare': 1, 'carbonara': 2, 'cominciate': 1, 'mettendo': 1, 'fuoco': 3, 'pentola': 1, 'lacqua': 1, 'salata': 1, 'cuocere': 1, 'pasta': 4, 'frattempo': 2, 'eliminate': 1, 'cotenna': 2, 'tagliatelo': 1, 'prima': 1, 'fette': 1, 'poi': 1, 'striscioline': 1, 'spesse': 1, 'circa': 2, 'cm': 1, 'avanzata': 1, 'potrà': 1, 'essere': 1, 'riutilizzata': 1, 'insaporire': 1, 'altre': 1, 'preparazioni': 1, 'versate': 3, 'pezzetti': 1, 'padella': 1, 'antiaderente': 1, 'rosolate': 1, 'minuti': 1, 'fiamma': 1, 'media': 1, 'fate': 1, 'attenzione': 1, 'bruciarlo': 1, 'altrimenti': 1, 'rilascerà': 1, 'aroma': 1, 'troppo': 1, 'forte': 1, 'tuffate': 1, 'nellacqua': 1, 'bollente': 1, 'cuoceteli': 1, 'tempo': 1, 'indicato': 1, 'confezione': 1, 'intanto': 2, 'ciotola': 1, 'aggiungete': 2, 'maggior': 1, 'parte': 3, 'previsto': 1, 'ricetta': 1, 'restante': 1, 'servirà': 1, 'guarnire': 1, 'insaporite': 1, 'amalgamate': 1, 'frusta': 1, 'mano': 1, 'cucchiaio': 1, 'acqua': 2, 'cottura': 3, 'diluire': 1, 'composto': 2, 'mescolate': 2, 'giunto': 1, 'spegnete': 1, 'tenetelo': 1, 'scolate': 1, 'dente': 1, 'direttamente': 1, 'tegame': 2, 'saltatela': 1, 'brevemente': 1, 'insaporirla': 1, 'togliete': 1, 'velocemente': 1, 'amalgamare': 1, 'renderla': 1, 'ben': 1, 'cremosa': 1, 'bisogno': 1, 'potete': 1, 'aggiungere': 1, 'poca': 1, 'servite': 1, 'subito': 1, 'insaporendoli': 1, 'avanzato': 1, 'macinato': 1, 'piacere': 1}}\n",
      " \n",
      "{'1': {'spaghetti': 5, 'pomodori': 2, 'pelati': 2, 'guanciale': 5, 'amatrice': 1, 'pecorino': 2, 'romano': 1, 'grattugiare': 1, 'sale': 2, 'fino': 2, 'olio': 2, 'extravergine': 1, 'doliva': 1, 'peperoncino': 3, 'fresco': 1, 'vino': 2, 'bianco': 2, 'preparare': 1, 'allamatriciana': 2, 'prima': 1, 'cosa': 1, 'mettete': 1, 'bollire': 1, 'lacqua': 2, 'cottura': 4, 'pasta': 4, 'salare': 1, 'poi': 1, 'bollore': 2, 'potete': 2, 'quindi': 2, 'dedicarvi': 1, 'condimento': 2, 'prendete': 1, 'eliminate': 2, 'cotenna': 1, 'tagliatelo': 1, 'fette': 2, 'circa': 3, 'cm': 2, 'spessore': 1, 'riducete': 1, 'listarelle': 4, 'mezzo': 1, 'punto': 2, 'scaldate': 1, 'filo': 1, 'padella': 4, 'possibilmente': 1, 'dacciaio': 1, 'aggiungete': 1, 'intero': 1, 'tagliato': 1, 'fatelo': 1, 'rosolare': 1, 'fiamma': 2, 'bassa': 1, 'minuti': 2, 'grasso': 2, 'diventato': 1, 'trasparente': 1, 'carne': 1, 'croccante': 1, 'mescolate': 2, 'spesso': 1, 'attenzione': 1, 'bruciarlo': 1, 'quando': 1, 'sciolto': 1, 'sfumate': 1, 'alzate': 1, 'lasciate': 1, 'evaporare': 1, 'trasferite': 1, 'piatto': 1, 'tenetele': 1, 'parte': 1, 'versate': 3, 'stessa': 1, 'sfilacciateli': 1, 'mani': 1, 'direttamente': 2, 'allinterno': 1, 'fondo': 1, 'proseguite': 1, 'sugo': 3, 'tegame': 1, 'arrivata': 1, 'cuoceteli': 1, 'dente': 2, 'frattempo': 1, 'regolate': 1, 'unite': 1, 'amalgamare': 1, 'volta': 1, 'cotti': 1, 'scolateli': 1, 'uniteli': 1, 'saltate': 1, 'molto': 1, 'velocemente': 1, 'amalgamarla': 1, 'bene': 1, 'gradite': 1, 'spegnere': 1, 'fuoco': 1, 'altrimenti': 1, 'poca': 1, 'acqua': 1, 'proseguire': 1, 'finire': 1, 'spolverizzate': 1, 'grattugiato': 1, 'pronti': 1, 'essere': 1, 'serviti': 1}}\n"
     ]
    }
   ],
   "source": [
    "print('Example of TF per menu: ')\n",
    "for k in list(doc_terms)[:2]:\n",
    "    print(' ')\n",
    "    print({k: doc_terms[k]})"
   ]
  },
  {
   "cell_type": "code",
   "execution_count": 233,
   "metadata": {},
   "outputs": [],
   "source": [
    "grams_dic = term_grams(all_tokens, all_ngrams)"
   ]
  },
  {
   "cell_type": "code",
   "execution_count": 244,
   "metadata": {
    "scrolled": true
   },
   "outputs": [
    {
     "name": "stdout",
     "output_type": "stream",
     "text": [
      "Example of grams associated with term: \n",
      "  \n",
      "{'spaghetti': [['spaghetti', 'guanciale', 'tuorli'], ['preparare', 'gli', 'spaghetti'], ['gli', 'spaghetti', 'alla'], ['spaghetti', 'alla', 'carbonara'], ['tuffate', 'gli', 'spaghetti'], ['gli', 'spaghetti', 'nellacqua'], ['spaghetti', 'nellacqua', 'bollente'], ['subito', 'gli', 'spaghetti'], ['gli', 'spaghetti', 'alla'], ['spaghetti', 'alla', 'carbonara'], ['spaghetti', 'pomodori', 'pelati'], ['preparare', 'gli', 'spaghetti'], ['gli', 'spaghetti', 'allamatriciana'], ['spaghetti', 'allamatriciana', 'per'], ['versate', 'gli', 'spaghetti'], ['gli', 'spaghetti', 'e'], ['spaghetti', 'e', 'cuoceteli'], ['cotti', 'gli', 'spaghetti'], ['gli', 'spaghetti', 'scolateli'], ['spaghetti', 'scolateli', 'e'], ['i', 'vostri', 'spaghetti'], ['vostri', 'spaghetti', 'allamatriciana'], ['spaghetti', 'allamatriciana', 'sono'], ['spaghetti', 'cozze', 'kg'], ['preparare', 'gli', 'spaghetti'], ['gli', 'spaghetti', 'allo'], ['spaghetti', 'allo', 'scoglio'], ['cottura', 'degli', 'spaghetti'], ['degli', 'spaghetti', 'a'], ['spaghetti', 'a', 'questo'], ['cuocete', 'gli', 'spaghetti'], ['gli', 'spaghetti', 'in'], ['spaghetti', 'in', 'acqua'], ['padella', 'gli', 'spaghetti'], ['gli', 'spaghetti', 'quando'], ['spaghetti', 'quando', 'mancano'], ['servite', 'gli', 'spaghetti'], ['gli', 'spaghetti', 'allo'], ['spaghetti', 'allo', 'scoglio'], ['spaghetti', 'acciughe', 'sottolio'], ['preparare', 'gli', 'spaghetti'], ['gli', 'spaghetti', 'con'], ['spaghetti', 'con', 'le'], ['cuocete', 'gli', 'spaghetti'], ['gli', 'spaghetti', 'soltanto'], ['spaghetti', 'soltanto', 'per'], ['risottate', 'gli', 'spaghetti'], ['gli', 'spaghetti', 'versando'], ['spaghetti', 'versando', 'lacqua'], ['i', 'vostri', 'spaghetti'], ['vostri', 'spaghetti', 'con'], ['spaghetti', 'con', 'le'], ['spaghetti', 'polpo', 'già'], ['preparare', 'gli', 'spaghetti'], ['gli', 'spaghetti', 'con'], ['spaghetti', 'con', 'polpo'], ['tuffate', 'gli', 'spaghetti'], ['gli', 'spaghetti', 'un'], ['spaghetti', 'un', 'paio'], ['scolate', 'gli', 'spaghetti'], ['gli', 'spaghetti', 'al'], ['spaghetti', 'al', 'dente'], ['i', 'vostri', 'spaghetti'], ['vostri', 'spaghetti', 'con'], ['spaghetti', 'con', 'polpo'], ['di', 'collina', 'spaghetti'], ['collina', 'spaghetti', 'aglio'], ['spaghetti', 'aglio', 'olio'], ['fasioi', 'mezzelune', 'spaghetti'], ['mezzelune', 'spaghetti', 'risotto'], ['spaghetti', 'risotto', 'scomposto'], ['lasagne', 'zucca', 'spaghetti'], ['zucca', 'spaghetti', 'la'], ['spaghetti', 'la', 'mia'], ['ai', 'porcini', 'spaghetti'], ['porcini', 'spaghetti', 'o'], ['spaghetti', 'o', 'paccheri'], ['e', 'pepe', 'spaghetti'], ['pepe', 'spaghetti', 'alla'], ['spaghetti', 'alla', 'carbonara'], ['di', 'capperi', 'spaghetti'], ['capperi', 'spaghetti', 'chitarra'], ['spaghetti', 'chitarra', 'con'], ['datterino', 'giallo', 'spaghetti'], ['giallo', 'spaghetti', 'alle'], ['spaghetti', 'alle', 'vongole'], ['di', 'zucchine', 'spaghetti'], ['zucchine', 'spaghetti', 'ai'], ['spaghetti', 'ai', 'frutti'], ['alla', 'bolognese', 'spaghetti'], ['bolognese', 'spaghetti', 'alla'], ['spaghetti', 'alla', 'carbonara'], ['di', 'collina', 'spaghetti'], ['collina', 'spaghetti', 'aglio'], ['spaghetti', 'aglio', 'olio'], ['pomodoro', 'fresco', 'spaghetti'], ['fresco', 'spaghetti', 'al'], ['spaghetti', 'al', 'pomodoro'], ['di', 'capperi', 'spaghetti'], ['capperi', 'spaghetti', 'chitarra'], ['spaghetti', 'chitarra', 'con'], ['datterino', 'giallo', 'spaghetti'], ['giallo', 'spaghetti', 'alle'], ['spaghetti', 'alle', 'vongole'], ['di', 'zucchine', 'spaghetti'], ['zucchine', 'spaghetti', 'ai'], ['spaghetti', 'ai', 'frutti'], ['alla', 'bolognese', 'spaghetti'], ['bolognese', 'spaghetti', 'alla'], ['spaghetti', 'alla', 'carbonara'], ['e', 'pepe', 'spaghetti'], ['pepe', 'spaghetti', 'alla'], ['spaghetti', 'alla', 'carbonara'], ['e', 'capesante', 'spaghetti'], ['capesante', 'spaghetti', 'con'], ['spaghetti', 'con', 'le'], ['due', 'persone', 'spaghetti'], ['persone', 'spaghetti', 'alla'], ['spaghetti', 'alla', 'chitarra'], ['e', 'curry', 'spaghetti'], ['curry', 'spaghetti', 'di'], ['spaghetti', 'di', 'gragnano'], ['ai', 'porcini', 'spaghetti'], ['porcini', 'spaghetti', 'con'], ['spaghetti', 'con', 'uova'], ['fondatore', 'nel', 'spaghetti'], ['nel', 'spaghetti', 'allo'], ['spaghetti', 'allo', 'scoglio'], ['alla', 'norma', 'spaghetti'], ['norma', 'spaghetti', 'al'], ['spaghetti', 'al', 'capriccio'], ['al', 'capriccio', 'spaghetti'], ['capriccio', 'spaghetti', 'con'], ['spaghetti', 'con', 'pomodorini'], ['grana', 'pepe', 'spaghetti'], ['pepe', 'spaghetti', 'trafilati'], ['spaghetti', 'trafilati', 'al'], ['linguine', 'allastice', 'spaghetti'], ['allastice', 'spaghetti', 'benedetto'], ['spaghetti', 'benedetto', 'cavalieri'], ['di', 'latte', 'spaghetti'], ['latte', 'spaghetti', 'al'], ['spaghetti', 'al', 'pomodoro'], ['e', 'peperoncino', 'spaghetti'], ['peperoncino', 'spaghetti', 'con'], ['spaghetti', 'con', 'le']]}\n",
      "  \n",
      "{'guanciale': [['spaghetti', 'guanciale', 'tuorli'], ['guanciale', 'tuorli', 'di'], ['cotenna', 'dal', 'guanciale'], ['dal', 'guanciale', 'e'], ['guanciale', 'e', 'tagliatelo'], ['intanto', 'il', 'guanciale'], ['il', 'guanciale', 'sarà'], ['guanciale', 'sarà', 'giunto'], ['con', 'il', 'guanciale'], ['il', 'guanciale', 'e'], ['guanciale', 'e', 'saltatela'], ['pomodori', 'pelati', 'guanciale'], ['pelati', 'guanciale', 'di'], ['guanciale', 'di', 'amatrice'], ['prendete', 'il', 'guanciale'], ['il', 'guanciale', 'eliminate'], ['guanciale', 'eliminate', 'la'], ['e', 'il', 'guanciale'], ['il', 'guanciale', 'tagliato'], ['guanciale', 'tagliato', 'a'], ['listarelle', 'di', 'guanciale'], ['di', 'guanciale', 'in'], ['guanciale', 'in', 'un'], ['listarelle', 'di', 'guanciale'], ['di', 'guanciale', 'in'], ['guanciale', 'in', 'padella'], ['rana', 'pescatrice', 'guanciale'], ['pescatrice', 'guanciale', 'zucca'], ['guanciale', 'zucca', 'e'], ['di', 'ciliegia', 'guanciale'], ['ciliegia', 'guanciale', 'croccante'], ['guanciale', 'croccante', 'zafferano'], ['perlage', 'basilico', 'guanciale'], ['basilico', 'guanciale', 'croccante'], ['guanciale', 'croccante', 'crema'], ['nostro', 'metabolismo', 'guanciale'], ['metabolismo', 'guanciale', 'croccante'], ['guanciale', 'croccante', 'tuorlo'], ['peso', 'il', 'guanciale'], ['il', 'guanciale', 'è'], ['guanciale', 'è', 'sapientemente'], ['pomodoro', 'lattuga', 'guanciale'], ['lattuga', 'guanciale', 'croccante'], ['guanciale', 'croccante', 'salsa'], ['fresca', 'alluovo', 'guanciale'], ['alluovo', 'guanciale', 'pecorino'], ['guanciale', 'pecorino', 'stagionato'], ['pepe', 'pecorino', 'guanciale'], ['pecorino', 'guanciale', 'salsiccia'], ['guanciale', 'salsiccia', 'fresea'], ['tradizionale', 'con', 'guanciale'], ['con', 'guanciale', 'croccante'], ['guanciale', 'croccante', 'e'], ['di', 'ciliegia', 'guanciale'], ['ciliegia', 'guanciale', 'croccante'], ['guanciale', 'croccante', 'zafferano'], ['perlage', 'basilico', 'guanciale'], ['basilico', 'guanciale', 'croccante'], ['guanciale', 'croccante', 'crema'], ['tradizionale', 'con', 'guanciale'], ['con', 'guanciale', 'croccante'], ['guanciale', 'croccante', 'e'], ['fresca', 'alluovo', 'guanciale'], ['alluovo', 'guanciale', 'pecorino'], ['guanciale', 'pecorino', 'stagionato'], ['pepe', 'pecorino', 'guanciale'], ['pecorino', 'guanciale', 'salsiccia'], ['guanciale', 'salsiccia', 'fresea'], ['bruschetta', 'con', 'guanciale'], ['con', 'guanciale', 'di'], ['guanciale', 'di', 'suino'], ['porcini', 'trifolati', 'guanciale'], ['trifolati', 'guanciale', 'croccante'], ['guanciale', 'croccante', 'e'], ['nocciole', 'e', 'guanciale'], ['e', 'guanciale', 'petto'], ['guanciale', 'petto', 'di'], ['con', 'patate', 'guanciale'], ['patate', 'guanciale', 'e'], ['guanciale', 'e', 'pomodorino'], ['nocciole', 'e', 'guanciale'], ['e', 'guanciale', 'croccante'], ['guanciale', 'croccante', 'petto'], ['pomodoro', 'e', 'guanciale'], ['e', 'guanciale', 'ricottella'], ['guanciale', 'ricottella', 'pane']]}\n"
     ]
    }
   ],
   "source": [
    "print('Example of grams associated with term: ')\n",
    "for k in list(grams_dic)[:2]:\n",
    "    print('  ')\n",
    "    print({k: grams_dic[k]})"
   ]
  },
  {
   "cell_type": "markdown",
   "metadata": {},
   "source": [
    "## Examples from our Test corpus"
   ]
  },
  {
   "cell_type": "markdown",
   "metadata": {},
   "source": [
    "Here we read and analyze the 10 menus from our scraped corpus and provide some insights as follows"
   ]
  },
  {
   "cell_type": "code",
   "execution_count": 223,
   "metadata": {
    "scrolled": true
   },
   "outputs": [
    {
     "name": "stdout",
     "output_type": "stream",
     "text": [
      "{'Ristorante Piccolo - Washington, DC': ['melanzane formaggio capra', 'calamari fritti', 'fritti', 'portobello', 'asparagi', 'funghi quattro formaggio', 'scarpariello', 'cozze alla parigina', 'gamberoni fradiavolo', 'arancini ragù formaggio', 'antipasto', 'carpaccio salmone', 'burrata altopiano delle murge', 'pappa pomodoro', 'fagioli alla veneto', 'margherita siciliano', 'ragu bolognese', 'pollo grigliata pesto', 'bruschetta pomodori', 'bruschetta caponata', 'bruschetta granchio', 'insalata mista', 'insalata cesare', 'insalata finocchio noci', 'insalata frutti', 'insalata pomodoro basilico', 'insalata arugula', 'insalata toscano tritare', 'caprese', 'italian burger', 'italiano hoagie', 'pollo parmigiano hoagie', 'italian salume hoagie', 'portobello', 'puttanesca', 'rigatoni gorgonzola', 'bucatini bolognese', 'paisano', 'capellini pomodoro', 'risotto porcini', 'agnolotti porcini', 'gnocchi spampinato', 'aragosta', 'verde', 'tortellini carbonara', 'polpettone', 'verdura', 'manicotti', 'scaloppine vitello marsala', 'scaloppine pollo marsala', 'vitello parmigiano', 'melanzane parmigiano', 'pollo parmigiano', 'pollo milanese', 'bistecca tartufo', 'vitello piccata', 'petto pollo incrostato pistacche', 'cioppino tutto', 'frutti cartoccio', 'fettuccine oceano', 'linguine alle vongole', 'risotto frutti'], 'La Storia - Chicago, IL': ['insalata spinaci', 'salumi', 'zuppa giorno', 'vitello tonnato', 'burrata', 'calamari fritti', 'tartare tonno rosso', 'polpo arrosto', 'polpette', 'gnocchi alla genovese', 'neri alla carbonara', 'alla', 'tagliatelle verdi alla bolognese', 'malloreddus allo zafferano', 'alla bolognese', 'orecchitte pugliese', 'risotto allastice', 'risotto zucca', 'risotto funghi porcini', 'pesce del giorno', 'branzino livornese', 'baccala forno', 'tonno rosso alla griglia', 'tagliata manzo', 'pollo alla cacciatora', 'spalla maiale', 'stinco agnelo', 'caponata melanzane', 'sautee'], 'Portofino - Arlington, VA': ['cozze marinara', 'calamari fritti', 'croccante', 'prosciutto', 'involtini melanzane', 'antipasto italiano', 'frutti', 'minestrone', 'zuppe polpettini', 'tortellini brodo', 'insalata portofino', 'insalata caprese', 'insalata spinacio', 'insalata veronese', 'insalata cesare', 'insalata verde', 'orecchiette quattro funghi', 'portofino', 'linguini vongole', 'melanzane portofino', 'linguini pesto genovese', 'gnocchi alla portofino', 'lasagne bolognese', 'bucatini alla carbonara', 'cannelloni', 'linguine', 'tortellini vitello suo piacere', 'risotto aragosta zafferano', 'fettucine alla alfredo', 'saltimboca alla romana', 'cotoletta alla parmigiana', 'costoletta vitello alla fiorentina', 'scalloppine alla sorrentina', 'bocconcini dello', 'picatta vitello', 'scalloppine marsala', 'scalloppine alla triestina', 'petto pollo marsala', 'picatta pollo', 'pollo portofino', 'pollo alla rustica', 'filetto alla gorgonzola', 'filetto alla vinci', 'bistecca pizzaiola', 'costolette dagnello', 'omaggi nettuno', 'santé pomodoro basilico', 'scampi diavola', 'cioppino', 'cacciuco livornese', 'almondine', 'gamberi'], 'Otello - Washington, DC': ['antipasto', 'fritti', 'insalata capri', 'bruschetta capri', 'scarola stufata', 'carrozza', 'prosciutto melone', 'peperoni alla griglia', 'insalata mista', 'amp fagioli', 'caesar', 'linguine burli', 'linguine alle vongole', 'linguine seafoo', 'capellini formaggio episelli', 'alla bolognese', 'pomodoro basilico', 'gnocchi della casa', 'tortellini alla crema funghi', 'tortellini basilico', 'penne alla salsiccia', 'fettuccine alfredo', 'penne puttanesca', 'penne alla sorrentina', 'rigatoni mirella', 'rigatoni alla', 'saltimbocca alla romana', 'scaloppini alla michele', 'rulata pollo', 'petti pollo peperoni', 'piccata limone', 'cuscinetti vitello', 'calamari piacere', 'zuppa pesce', 'capesante alla diavolo', 'trota alla livornese', 'sogliola alla fiorentina', 'baccala alla pescatore', 'salmone alla caprese', 'tartufo', 'espresso', 'cappuccino'], 'I Ricchi - Washington, DC': ['buratta bufala', 'polipo panzanella', 'cozze', 'calamari', 'polpette', 'prosciutto melone', 'salsiccie amp fagioli', 'funghi farciti', 'ribollita', 'funghi', 'insalata mista', 'barbabietola', 'tonno conserva', 'caprese', 'alla romagnola', 'vegetariano', 'tortelloni', 'rigatoni strascicate', 'tagliarini vongole', 'pici allaglione', 'cavatelli neri', 'risotto del giorno', 'del giorno', 'pesce del giorno', 'tagliata', 'capesante amp gamberi', 'trota', 'pollo paillar', 'costoletta alla milanese', 'bietola', 'patate alla ghiotta', 'fagioli'], 'Il Canale - Washington, DC': ['prosciutto bufala', 'bruschetta', 'bresaola', 'prosciutto melone', 'arancini siciliani', 'polpette sugo', 'impepata cozze', 'carrozza', 'focaccia', 'classico', 'pollo', 'imbottito', 'margherita', 'diavola', 'quattro formaggi', 'georgetown', 'vegetariana rossa', 'calzone', 'tunnarella', 'ciliegina', 'caesar', 'caprese', 'tagliata manzo', 'rolle pollo', 'branzino cartoccio', 'salmone alla', 'gnocchi', 'pomodoro pesto', 'scialatielli allo scoglio', 'cannelloni'], 'Valentinos - Nashville, TN': ['antipasto toscano', 'calamari fritti', 'prosciutto', 'scampi forno', 'valentinos flatbrea', 'oreganata', 'marinara', 'carpaccio', 'caesar', 'arugula', 'fagioli', 'caprese', 'frutti', 'gnocchi', 'risotto del giorno', 'bucatini', 'gigli toscano', 'garganelli', 'espresso rubb', 'ribeye', 'manhattan', 'scarpariello', 'scottish', 'parmesan', 'saltimbocca', 'osso bucco', 'cioppino', 'pancetta scamorza', 'cacio pepe', 'sauté', 'prosciutto wrapp', 'tiramisu', 'flourless'], 'Osteria la Spiga - Seattle, WA': ['cestino piadina', 'cestino gnocco fritto', 'affettati misti', 'prosciutto', 'formaggi misti', 'grigliate', 'tortelli agli asparagi', 'tagliolini sugo stridoli', 'gnocchi pomodoro', 'tagliatelle tartufo', 'tagliatelle ragu', 'lasagne verdi', 'stinco maiale forno', 'stuzzichini del giorno', 'vellutata zucca mais', 'patate arrosto', 'fritta', 'insalata', 'insalata mista della casa', 'ciambella', 'il mascarpone ida', 'panna', 'nocciola'], 'Via dei Tribunali - Seattle, WA': ['marinara', 'margherita', 'margherita ', 'quattro formaggi', 'tribunali specialita della casa', 'puttanesca', 'funghi', 'prosciutto crudo', 'prosciutto funghi', 'quattro stagioni', 'salame', 'dante', 'spaccanapoli', 'misto salumi', 'salsiccia rapini', 'salsiccia cipolla', 'salsiccia', 'lupino', 'capricciosa', 'spinaci', 'tonno', 'vongole', 'campania', 'salsiccia peperoni cipolle', 'misto salumi', 'bufala prosciutto', 'pomodori forno', 'burrata', 'insalata', 'insalata della casa', 'insalata caesar', 'vongole', 'polpette pomodoro', 'forno', 'linguine vongole', 'rigatoni bolognese', 'calzone salame', 'calzone napoletano', 'vesuvio specialita della casa', 'tiramisu', 'affogato', 'mezza', 'panna', 'caffe espresso', 'americano', 'cappuccino'], 'Il Terrazzo Carmine - Seattle, WA': ['calamari affogati', 'carpaccio bue', 'spinaci soffritti', 'gamberoni provinciale', 'insalata caesar', 'insalata mista', 'insalata caprese', 'insalata campagnola', 'insalata manzo', 'insalata pollo suprema', 'insalata portofino', 'gamberi', 'crema cavolfiore', 'fagioli scarola', 'spaghettini ortolano', 'gnocchi alla sorrentina', 'linquine alle vongole', 'pennette salmone', 'ravioloni pesce', 'fettuccine pesto gamberi', 'rigatoni bolognese', 'capellini', 'capriolo', 'cannelloni napoletani', 'risotto del giorno', 'piccata vitello capperi', 'suprema pollo alla griglia', 'parmigiana melanzane', 'animelle prosciutto asparaci', 'cioppino napoletano', 'costata maiale', 'bistecca pepe', 'pesce del giorno']}\n"
     ]
    }
   ],
   "source": [
    "# Importing the background corpus\n",
    "with open('data/Test Corpus.json', 'r') as j:\n",
    "        Test_Corpus_Json = json.load(j)\n",
    "print(Test_Corpus_Json)"
   ]
  },
  {
   "cell_type": "code",
   "execution_count": 245,
   "metadata": {
    "scrolled": true
   },
   "outputs": [
    {
     "name": "stdout",
     "output_type": "stream",
     "text": [
      " \n",
      "{'Ristorante Piccolo - Washington, DC': ['melanzane', 'formaggio', 'capra', 'calamari', 'fritti', 'fritti', 'portobello', 'asparagi', 'funghi', 'quattro', 'formaggio', 'scarpariello', 'cozze', 'parigina', 'gamberoni', 'fradiavolo', 'arancini', 'ragù', 'formaggio', 'antipasto', 'carpaccio', 'salmone', 'burrata', 'altopiano', 'murge', 'pappa', 'pomodoro', 'fagioli', 'veneto', 'margherita', 'siciliano', 'ragu', 'bolognese', 'pollo', 'grigliata', 'pesto', 'bruschetta', 'pomodori', 'bruschetta', 'caponata', 'bruschetta', 'granchio', 'insalata', 'mista', 'insalata', 'cesare', 'insalata', 'finocchio', 'noci', 'insalata', 'frutti', 'insalata', 'pomodoro', 'basilico', 'insalata', 'arugula', 'insalata', 'toscano', 'tritare', 'caprese', 'italian', 'burger', 'italiano', 'hoagie', 'pollo', 'parmigiano', 'hoagie', 'italian', 'salume', 'hoagie', 'portobello', 'puttanesca', 'rigatoni', 'gorgonzola', 'bucatini', 'bolognese', 'paisano', 'capellini', 'pomodoro', 'risotto', 'porcini', 'agnolotti', 'porcini', 'gnocchi', 'spampinato', 'aragosta', 'verde', 'tortellini', 'carbonara', 'polpettone', 'verdura', 'manicotti', 'scaloppine', 'vitello', 'marsala', 'scaloppine', 'pollo', 'marsala', 'vitello', 'parmigiano', 'melanzane', 'parmigiano', 'pollo', 'parmigiano', 'pollo', 'milanese', 'bistecca', 'tartufo', 'vitello', 'piccata', 'petto', 'pollo', 'incrostato', 'pistacche', 'cioppino', 'frutti', 'cartoccio', 'fettuccine', 'oceano', 'linguine', 'vongole', 'risotto', 'frutti']}\n",
      " \n",
      "{'La Storia - Chicago, IL': ['insalata', 'spinaci', 'salumi', 'zuppa', 'giorno', 'vitello', 'tonnato', 'burrata', 'calamari', 'fritti', 'tartare', 'tonno', 'rosso', 'polpo', 'arrosto', 'polpette', 'gnocchi', 'genovese', 'neri', 'carbonara', 'tagliatelle', 'verdi', 'bolognese', 'malloreddus', 'zafferano', 'bolognese', 'orecchitte', 'pugliese', 'risotto', 'allastice', 'risotto', 'zucca', 'risotto', 'funghi', 'porcini', 'pesce', 'giorno', 'branzino', 'livornese', 'baccala', 'forno', 'tonno', 'rosso', 'griglia', 'tagliata', 'manzo', 'pollo', 'cacciatora', 'spalla', 'maiale', 'stinco', 'agnelo', 'caponata', 'melanzane', 'sautee']}\n",
      " \n",
      "{'Portofino - Arlington, VA': ['cozze', 'marinara', 'calamari', 'fritti', 'croccante', 'prosciutto', 'involtini', 'melanzane', 'antipasto', 'italiano', 'frutti', 'minestrone', 'zuppe', 'polpettini', 'tortellini', 'brodo', 'insalata', 'portofino', 'insalata', 'caprese', 'insalata', 'spinacio', 'insalata', 'veronese', 'insalata', 'cesare', 'insalata', 'verde', 'orecchiette', 'quattro', 'funghi', 'portofino', 'linguini', 'vongole', 'melanzane', 'portofino', 'linguini', 'pesto', 'genovese', 'gnocchi', 'portofino', 'lasagne', 'bolognese', 'bucatini', 'carbonara', 'cannelloni', 'linguine', 'tortellini', 'vitello', 'piacere', 'risotto', 'aragosta', 'zafferano', 'fettucine', 'alfredo', 'saltimboca', 'romana', 'cotoletta', 'parmigiana', 'costoletta', 'vitello', 'fiorentina', 'scalloppine', 'sorrentina', 'bocconcini', 'picatta', 'vitello', 'scalloppine', 'marsala', 'scalloppine', 'triestina', 'petto', 'pollo', 'marsala', 'picatta', 'pollo', 'pollo', 'portofino', 'pollo', 'rustica', 'filetto', 'gorgonzola', 'filetto', 'vinci', 'bistecca', 'pizzaiola', 'costolette', 'dagnello', 'omaggi', 'nettuno', 'santé', 'pomodoro', 'basilico', 'scampi', 'diavola', 'cioppino', 'cacciuco', 'livornese', 'almondine', 'gamberi']}\n",
      " \n",
      "{'Otello - Washington, DC': ['antipasto', 'fritti', 'insalata', 'capri', 'bruschetta', 'capri', 'scarola', 'stufata', 'carrozza', 'prosciutto', 'melone', 'peperoni', 'griglia', 'insalata', 'mista', 'amp', 'fagioli', 'caesar', 'linguine', 'burli', 'linguine', 'vongole', 'linguine', 'seafoo', 'capellini', 'formaggio', 'episelli', 'bolognese', 'pomodoro', 'basilico', 'gnocchi', 'casa', 'tortellini', 'crema', 'funghi', 'tortellini', 'basilico', 'penne', 'salsiccia', 'fettuccine', 'alfredo', 'penne', 'puttanesca', 'penne', 'sorrentina', 'rigatoni', 'mirella', 'rigatoni', 'saltimbocca', 'romana', 'scaloppini', 'michele', 'rulata', 'pollo', 'petti', 'pollo', 'peperoni', 'piccata', 'limone', 'cuscinetti', 'vitello', 'calamari', 'piacere', 'zuppa', 'pesce', 'capesante', 'diavolo', 'trota', 'livornese', 'sogliola', 'fiorentina', 'baccala', 'pescatore', 'salmone', 'caprese', 'tartufo', 'espresso', 'cappuccino']}\n",
      " \n",
      "{'I Ricchi - Washington, DC': ['buratta', 'bufala', 'polipo', 'panzanella', 'cozze', 'calamari', 'polpette', 'prosciutto', 'melone', 'salsiccie', 'amp', 'fagioli', 'funghi', 'farciti', 'ribollita', 'funghi', 'insalata', 'mista', 'barbabietola', 'tonno', 'conserva', 'caprese', 'romagnola', 'vegetariano', 'tortelloni', 'rigatoni', 'strascicate', 'tagliarini', 'vongole', 'pici', 'allaglione', 'cavatelli', 'neri', 'risotto', 'giorno', 'giorno', 'pesce', 'giorno', 'tagliata', 'capesante', 'amp', 'gamberi', 'trota', 'pollo', 'paillar', 'costoletta', 'milanese', 'bietola', 'patate', 'ghiotta', 'fagioli']}\n",
      " \n",
      "{'Il Canale - Washington, DC': ['prosciutto', 'bufala', 'bruschetta', 'bresaola', 'prosciutto', 'melone', 'arancini', 'siciliani', 'polpette', 'sugo', 'impepata', 'cozze', 'carrozza', 'focaccia', 'classico', 'pollo', 'imbottito', 'margherita', 'diavola', 'quattro', 'formaggi', 'georgetown', 'vegetariana', 'rossa', 'calzone', 'tunnarella', 'ciliegina', 'caesar', 'caprese', 'tagliata', 'manzo', 'rolle', 'pollo', 'branzino', 'cartoccio', 'salmone', 'gnocchi', 'pomodoro', 'pesto', 'scialatielli', 'scoglio', 'cannelloni']}\n",
      " \n",
      "{'Valentinos - Nashville, TN': ['antipasto', 'toscano', 'calamari', 'fritti', 'prosciutto', 'scampi', 'forno', 'valentinos', 'flatbrea', 'oreganata', 'marinara', 'carpaccio', 'caesar', 'arugula', 'fagioli', 'caprese', 'frutti', 'gnocchi', 'risotto', 'giorno', 'bucatini', 'gigli', 'toscano', 'garganelli', 'espresso', 'rubb', 'ribeye', 'manhattan', 'scarpariello', 'scottish', 'parmesan', 'saltimbocca', 'osso', 'bucco', 'cioppino', 'pancetta', 'scamorza', 'cacio', 'pepe', 'sauté', 'prosciutto', 'wrapp', 'tiramisu', 'flourless']}\n",
      " \n",
      "{'Osteria la Spiga - Seattle, WA': ['cestino', 'piadina', 'cestino', 'gnocco', 'fritto', 'affettati', 'misti', 'prosciutto', 'formaggi', 'misti', 'grigliate', 'tortelli', 'asparagi', 'tagliolini', 'sugo', 'stridoli', 'gnocchi', 'pomodoro', 'tagliatelle', 'tartufo', 'tagliatelle', 'ragu', 'lasagne', 'verdi', 'stinco', 'maiale', 'forno', 'stuzzichini', 'giorno', 'vellutata', 'zucca', 'mais', 'patate', 'arrosto', 'fritta', 'insalata', 'insalata', 'mista', 'casa', 'ciambella', 'mascarpone', 'ida', 'panna', 'nocciola']}\n",
      " \n",
      "{'Via dei Tribunali - Seattle, WA': ['marinara', 'margherita', 'margherita', 'quattro', 'formaggi', 'tribunali', 'specialita', 'casa', 'puttanesca', 'funghi', 'prosciutto', 'crudo', 'prosciutto', 'funghi', 'quattro', 'stagioni', 'salame', 'dante', 'spaccanapoli', 'misto', 'salumi', 'salsiccia', 'rapini', 'salsiccia', 'cipolla', 'salsiccia', 'lupino', 'capricciosa', 'spinaci', 'tonno', 'vongole', 'campania', 'salsiccia', 'peperoni', 'cipolle', 'misto', 'salumi', 'bufala', 'prosciutto', 'pomodori', 'forno', 'burrata', 'insalata', 'insalata', 'casa', 'insalata', 'caesar', 'vongole', 'polpette', 'pomodoro', 'forno', 'linguine', 'vongole', 'rigatoni', 'bolognese', 'calzone', 'salame', 'calzone', 'napoletano', 'vesuvio', 'specialita', 'casa', 'tiramisu', 'affogato', 'mezza', 'panna', 'caffe', 'espresso', 'americano', 'cappuccino']}\n",
      " \n",
      "{'Il Terrazzo Carmine - Seattle, WA': ['calamari', 'affogati', 'carpaccio', 'bue', 'spinaci', 'soffritti', 'gamberoni', 'provinciale', 'insalata', 'caesar', 'insalata', 'mista', 'insalata', 'caprese', 'insalata', 'campagnola', 'insalata', 'manzo', 'insalata', 'pollo', 'suprema', 'insalata', 'portofino', 'gamberi', 'crema', 'cavolfiore', 'fagioli', 'scarola', 'spaghettini', 'ortolano', 'gnocchi', 'sorrentina', 'linquine', 'vongole', 'pennette', 'salmone', 'ravioloni', 'pesce', 'fettuccine', 'pesto', 'gamberi', 'rigatoni', 'bolognese', 'capellini', 'capriolo', 'cannelloni', 'napoletani', 'risotto', 'giorno', 'piccata', 'vitello', 'capperi', 'suprema', 'pollo', 'griglia', 'parmigiana', 'melanzane', 'animelle', 'prosciutto', 'asparaci', 'cioppino', 'napoletano', 'costata', 'maiale', 'bistecca', 'pepe', 'pesce', 'giorno']}\n"
     ]
    }
   ],
   "source": [
    "all_tokens_test = get_tokens_test(Test_Corpus_Json)\n",
    "for k in list(all_tokens_test)[:20]:\n",
    "    print(' ')\n",
    "    print({k: all_tokens_test[k]})"
   ]
  },
  {
   "cell_type": "code",
   "execution_count": 235,
   "metadata": {},
   "outputs": [],
   "source": [
    "menus = set_menu(all_tokens_test)"
   ]
  },
  {
   "cell_type": "markdown",
   "metadata": {},
   "source": [
    "### Check for typos in the menus"
   ]
  },
  {
   "cell_type": "code",
   "execution_count": 236,
   "metadata": {},
   "outputs": [],
   "source": [
    "final_results = {}\n",
    "for key, value in menus.items():\n",
    "    result, errs = checker(words_freq.keys(), value)\n",
    "    final_results[key] = result, errs"
   ]
  },
  {
   "cell_type": "markdown",
   "metadata": {},
   "source": [
    "### Assign our scores to each menu"
   ]
  },
  {
   "cell_type": "code",
   "execution_count": 237,
   "metadata": {},
   "outputs": [],
   "source": [
    "dic_scoring = {}\n",
    "for key, value in final_results.items():\n",
    "    score, img = scoring(value[0])\n",
    "    dic_scoring[key] = value, score, img"
   ]
  },
  {
   "cell_type": "code",
   "execution_count": 238,
   "metadata": {},
   "outputs": [],
   "source": [
    "df_errors = []\n",
    "for key, value in dic_scoring.items():\n",
    "    df = {'Restaurant': key, 'Errors': value[0][1], '# Errors': value[0][0], 'Score': value[1]}\n",
    "    df_errors.append(df)\n",
    "df_errors = pd.DataFrame(df_errors, columns=['Restaurant', 'Errors','# Errors', 'Score'])"
   ]
  },
  {
   "cell_type": "markdown",
   "metadata": {},
   "source": [
    "### Here's how these restaurants performed and what mistakes our program detected"
   ]
  },
  {
   "cell_type": "code",
   "execution_count": 246,
   "metadata": {
    "scrolled": false
   },
   "outputs": [
    {
     "data": {
      "text/html": [
       "<div>\n",
       "<style scoped>\n",
       "    .dataframe tbody tr th:only-of-type {\n",
       "        vertical-align: middle;\n",
       "    }\n",
       "\n",
       "    .dataframe tbody tr th {\n",
       "        vertical-align: top;\n",
       "    }\n",
       "\n",
       "    .dataframe thead th {\n",
       "        text-align: right;\n",
       "    }\n",
       "</style>\n",
       "<table border=\"1\" class=\"dataframe\">\n",
       "  <thead>\n",
       "    <tr style=\"text-align: right;\">\n",
       "      <th></th>\n",
       "      <th>Restaurant</th>\n",
       "      <th>Errors</th>\n",
       "      <th># Errors</th>\n",
       "      <th>Score</th>\n",
       "    </tr>\n",
       "  </thead>\n",
       "  <tbody>\n",
       "    <tr>\n",
       "      <th>5</th>\n",
       "      <td>Il Canale - Washington, DC</td>\n",
       "      <td>[georgetown]</td>\n",
       "      <td>1</td>\n",
       "      <td>5</td>\n",
       "    </tr>\n",
       "    <tr>\n",
       "      <th>7</th>\n",
       "      <td>Osteria la Spiga - Seattle, WA</td>\n",
       "      <td>[ragu, ida, stridoli]</td>\n",
       "      <td>3</td>\n",
       "      <td>5</td>\n",
       "    </tr>\n",
       "    <tr>\n",
       "      <th>1</th>\n",
       "      <td>La Storia - Chicago, IL</td>\n",
       "      <td>[neri, orecchitte, agnelo, malloreddus, sautee]</td>\n",
       "      <td>5</td>\n",
       "      <td>5</td>\n",
       "    </tr>\n",
       "    <tr>\n",
       "      <th>8</th>\n",
       "      <td>Via dei Tribunali - Seattle, WA</td>\n",
       "      <td>[cappuccino, caffe, dante, tribunali, campania...</td>\n",
       "      <td>9</td>\n",
       "      <td>4</td>\n",
       "    </tr>\n",
       "    <tr>\n",
       "      <th>4</th>\n",
       "      <td>I Ricchi - Washington, DC</td>\n",
       "      <td>[salsiccie, buratta, paillar, costoletta, tort...</td>\n",
       "      <td>10</td>\n",
       "      <td>4</td>\n",
       "    </tr>\n",
       "    <tr>\n",
       "      <th>3</th>\n",
       "      <td>Otello - Washington, DC</td>\n",
       "      <td>[cappuccino, episelli, mirella, capellini, sea...</td>\n",
       "      <td>11</td>\n",
       "      <td>3</td>\n",
       "    </tr>\n",
       "    <tr>\n",
       "      <th>9</th>\n",
       "      <td>Il Terrazzo Carmine - Seattle, WA</td>\n",
       "      <td>[affogati, spaghettini, asparaci, animelle, so...</td>\n",
       "      <td>13</td>\n",
       "      <td>3</td>\n",
       "    </tr>\n",
       "    <tr>\n",
       "      <th>6</th>\n",
       "      <td>Valentinos - Nashville, TN</td>\n",
       "      <td>[arugula, parmesan, manhattan, scottish, scarp...</td>\n",
       "      <td>16</td>\n",
       "      <td>2</td>\n",
       "    </tr>\n",
       "    <tr>\n",
       "      <th>0</th>\n",
       "      <td>Ristorante Piccolo - Washington, DC</td>\n",
       "      <td>[arugula, cioppino, altopiano, scarpariello, i...</td>\n",
       "      <td>17</td>\n",
       "      <td>2</td>\n",
       "    </tr>\n",
       "    <tr>\n",
       "      <th>2</th>\n",
       "      <td>Portofino - Arlington, VA</td>\n",
       "      <td>[vinci, omaggi, picatta, cioppino, almondine, ...</td>\n",
       "      <td>18</td>\n",
       "      <td>2</td>\n",
       "    </tr>\n",
       "  </tbody>\n",
       "</table>\n",
       "</div>"
      ],
      "text/plain": [
       "                            Restaurant  \\\n",
       "5           Il Canale - Washington, DC   \n",
       "7       Osteria la Spiga - Seattle, WA   \n",
       "1              La Storia - Chicago, IL   \n",
       "8      Via dei Tribunali - Seattle, WA   \n",
       "4            I Ricchi - Washington, DC   \n",
       "3              Otello - Washington, DC   \n",
       "9    Il Terrazzo Carmine - Seattle, WA   \n",
       "6           Valentinos - Nashville, TN   \n",
       "0  Ristorante Piccolo - Washington, DC   \n",
       "2            Portofino - Arlington, VA   \n",
       "\n",
       "                                              Errors  # Errors  Score  \n",
       "5                                       [georgetown]         1      5  \n",
       "7                              [ragu, ida, stridoli]         3      5  \n",
       "1    [neri, orecchitte, agnelo, malloreddus, sautee]         5      5  \n",
       "8  [cappuccino, caffe, dante, tribunali, campania...         9      4  \n",
       "4  [salsiccie, buratta, paillar, costoletta, tort...        10      4  \n",
       "3  [cappuccino, episelli, mirella, capellini, sea...        11      3  \n",
       "9  [affogati, spaghettini, asparaci, animelle, so...        13      3  \n",
       "6  [arugula, parmesan, manhattan, scottish, scarp...        16      2  \n",
       "0  [arugula, cioppino, altopiano, scarpariello, i...        17      2  \n",
       "2  [vinci, omaggi, picatta, cioppino, almondine, ...        18      2  "
      ]
     },
     "execution_count": 246,
     "metadata": {},
     "output_type": "execute_result"
    }
   ],
   "source": [
    "df_errors.sort_values('# Errors', ascending=True)"
   ]
  },
  {
   "cell_type": "code",
   "execution_count": 240,
   "metadata": {
    "scrolled": false
   },
   "outputs": [
    {
     "name": "stdout",
     "output_type": "stream",
     "text": [
      "------------------\n",
      "Restaurant:  Il Canale - Washington, DC\n",
      "# Errors:  1\n",
      "Errors:  ['georgetown']\n",
      "Score:  5\n",
      "------------------\n",
      "Restaurant:  Osteria la Spiga - Seattle, WA\n",
      "# Errors:  3\n",
      "Errors:  ['ragu', 'ida', 'stridoli']\n",
      "Score:  5\n",
      "------------------\n",
      "Restaurant:  La Storia - Chicago, IL\n",
      "# Errors:  5\n",
      "Errors:  ['neri', 'orecchitte', 'agnelo', 'malloreddus', 'sautee']\n",
      "Score:  5\n",
      "------------------\n",
      "Restaurant:  Via dei Tribunali - Seattle, WA\n",
      "# Errors:  9\n",
      "Errors:  ['cappuccino', 'caffe', 'dante', 'tribunali', 'campania', 'specialita', 'lupino', 'americano', 'spaccanapoli']\n",
      "Score:  4\n",
      "------------------\n",
      "Restaurant:  I Ricchi - Washington, DC\n",
      "# Errors:  10\n",
      "Errors:  ['salsiccie', 'buratta', 'paillar', 'costoletta', 'tortelloni', 'tagliarini', 'neri', 'bietola', 'allaglione', 'strascicate']\n",
      "Score:  4\n",
      "------------------\n",
      "Restaurant:  Otello - Washington, DC\n",
      "# Errors:  11\n",
      "Errors:  ['cappuccino', 'episelli', 'mirella', 'capellini', 'seafoo', 'piccata', 'burli', 'scaloppini', 'rulata', 'alfredo', 'cuscinetti']\n",
      "Score:  3\n",
      "------------------\n",
      "Restaurant:  Il Terrazzo Carmine - Seattle, WA\n",
      "# Errors:  13\n",
      "Errors:  ['affogati', 'spaghettini', 'asparaci', 'animelle', 'soffritti', 'capellini', 'ravioloni', 'piccata', 'campagnola', 'cioppino', 'provinciale', 'linquine', 'capriolo']\n",
      "Score:  3\n",
      "------------------\n",
      "Restaurant:  Valentinos - Nashville, TN\n",
      "# Errors:  16\n",
      "Errors:  ['arugula', 'parmesan', 'manhattan', 'scottish', 'scarpariello', 'gigli', 'flourless', 'flatbrea', 'osso', 'ribeye', 'wrapp', 'rubb', 'cioppino', 'oreganata', 'bucco', 'valentinos']\n",
      "Score:  2\n",
      "------------------\n",
      "Restaurant:  Ristorante Piccolo - Washington, DC\n",
      "# Errors:  17\n",
      "Errors:  ['arugula', 'cioppino', 'altopiano', 'scarpariello', 'italian', 'fradiavolo', 'paisano', 'manicotti', 'ragu', 'pistacche', 'veneto', 'cesare', 'hoagie', 'capellini', 'piccata', 'murge', 'spampinato']\n",
      "Score:  2\n",
      "------------------\n",
      "Restaurant:  Portofino - Arlington, VA\n",
      "# Errors:  18\n",
      "Errors:  ['vinci', 'omaggi', 'picatta', 'cioppino', 'almondine', 'polpettini', 'linguini', 'nettuno', 'spinacio', 'saltimboca', 'costoletta', 'fettucine', 'scalloppine', 'cesare', 'cacciuco', 'santé', 'alfredo', 'zuppe']\n",
      "Score:  2\n"
     ]
    }
   ],
   "source": [
    "for key, value in sorted(dic_scoring.items(), key=lambda x:x[1]):\n",
    "    print(\"------------------\")\n",
    "    print(\"Restaurant: \", key)\n",
    "    print(\"# Errors: \", value[0][0])\n",
    "    print(\"Errors: \", value[0][1])\n",
    "    print('Score: ', value[1])"
   ]
  },
  {
   "cell_type": "code",
   "execution_count": null,
   "metadata": {},
   "outputs": [],
   "source": []
  }
 ],
 "metadata": {
  "kernelspec": {
   "display_name": "Python 3",
   "language": "python",
   "name": "python3"
  },
  "language_info": {
   "codemirror_mode": {
    "name": "ipython",
    "version": 3
   },
   "file_extension": ".py",
   "mimetype": "text/x-python",
   "name": "python",
   "nbconvert_exporter": "python",
   "pygments_lexer": "ipython3",
   "version": "3.7.4"
  },
  "toc": {
   "base_numbering": 1,
   "nav_menu": {},
   "number_sections": true,
   "sideBar": true,
   "skip_h1_title": false,
   "title_cell": "Table of Contents",
   "title_sidebar": "Contents",
   "toc_cell": false,
   "toc_position": {},
   "toc_section_display": true,
   "toc_window_display": false
  }
 },
 "nbformat": 4,
 "nbformat_minor": 2
}
