{
 "cells": [
  {
   "cell_type": "markdown",
   "metadata": {},
   "source": [
    "# Example of FIRe scoring system on 10 menus"
   ]
  },
  {
   "cell_type": "code",
   "execution_count": 192,
   "metadata": {},
   "outputs": [],
   "source": [
    "import pandas as pd\n",
    "import simplejson as json\n",
    "from analysis.simple_spell import *\n",
    "from scrapers.TestCorpusScraper_editing import *\n",
    "from analysis.scoring import *\n",
    "from analysis.Indexes import *\n",
    "import warnings\n",
    "warnings.filterwarnings('ignore')\n"
   ]
  },
  {
   "cell_type": "markdown",
   "metadata": {},
   "source": [
    "## Background corpus "
   ]
  },
  {
   "cell_type": "markdown",
   "metadata": {},
   "source": [
    "The following code reads the corpus we created to assess authencity of restaurants' menu. We display some of the main features of this corpus as follows."
   ]
  },
  {
   "cell_type": "code",
   "execution_count": 193,
   "metadata": {},
   "outputs": [],
   "source": [
    "# Importing the background corpus\n",
    "with open('data/Background Corpora.json', 'r') as j:\n",
    "        Background_Corpora_Json = json.load(j)\n"
   ]
  },
  {
   "cell_type": "code",
   "execution_count": 194,
   "metadata": {
    "scrolled": true
   },
   "outputs": [],
   "source": [
    "all_tokens = get_alltokens(Background_Corpora_Json)"
   ]
  },
  {
   "cell_type": "code",
   "execution_count": 195,
   "metadata": {},
   "outputs": [
    {
     "name": "stdout",
     "output_type": "stream",
     "text": [
      "Example of tokens: \n",
      "['spaghetti', 'guanciale', 'tuorli', 'uova', 'medie', 'pecorino', 'romano', 'pepe', 'nero', 'preparare', 'carbonara', 'cominciate', 'mettendo', 'fuoco', 'pentola', 'lacqua', 'salata', 'cuocere', 'pasta', 'frattempo', 'eliminate', 'cotenna', 'tagliatelo', 'prima', 'fette', 'poi', 'striscioline', 'spesse', 'circa', 'cm']\n"
     ]
    }
   ],
   "source": [
    "print('Example of tokens: ')\n",
    "print(all_tokens[:30])"
   ]
  },
  {
   "cell_type": "code",
   "execution_count": 196,
   "metadata": {
    "scrolled": true
   },
   "outputs": [],
   "source": [
    "all_ngrams = ngrams_it(Background_Corpora_Json)"
   ]
  },
  {
   "cell_type": "code",
   "execution_count": 197,
   "metadata": {},
   "outputs": [
    {
     "name": "stdout",
     "output_type": "stream",
     "text": [
      "Example of trigrams: \n",
      "[['spaghetti', 'guanciale', 'tuorli'], ['guanciale', 'tuorli', 'di'], ['tuorli', 'di', 'uova'], ['di', 'uova', 'medie'], ['uova', 'medie', 'pecorino'], ['medie', 'pecorino', 'romano'], ['pecorino', 'romano', 'pepe'], ['romano', 'pepe', 'nero'], ['pepe', 'nero', 'per'], ['nero', 'per', 'preparare'], ['per', 'preparare', 'gli'], ['preparare', 'gli', 'spaghetti'], ['gli', 'spaghetti', 'alla'], ['spaghetti', 'alla', 'carbonara'], ['alla', 'carbonara', 'cominciate'], ['carbonara', 'cominciate', 'mettendo'], ['cominciate', 'mettendo', 'sul'], ['mettendo', 'sul', 'fuoco'], ['sul', 'fuoco', 'una'], ['fuoco', 'una', 'pentola']]\n"
     ]
    }
   ],
   "source": [
    "print('Example of trigrams: ')\n",
    "print(all_ngrams[:20])"
   ]
  },
  {
   "cell_type": "code",
   "execution_count": 198,
   "metadata": {
    "scrolled": true
   },
   "outputs": [],
   "source": [
    "words_freq = tf(Background_Corpora_Json)"
   ]
  },
  {
   "cell_type": "code",
   "execution_count": 199,
   "metadata": {},
   "outputs": [
    {
     "name": "stdout",
     "output_type": "stream",
     "text": [
      "Example of TF: \n",
      "{'spaghetti': 52, 'guanciale': 27, 'tuorli': 29, 'uova': 110, 'medie': 21, 'pecorino': 64, 'romano': 12, 'pepe': 261, 'nero': 130, 'preparare': 133, 'carbonara': 9, 'cominciate': 31, 'mettendo': 9, 'fuoco': 178, 'pentola': 56, 'lacqua': 66, 'salata': 42, 'cuocere': 74, 'pasta': 134, 'frattempo': 71}\n"
     ]
    }
   ],
   "source": [
    "print('Example of TF: ')\n",
    "print({k: words_freq[k] for k in list(words_freq)[:20]})"
   ]
  },
  {
   "cell_type": "code",
   "execution_count": 209,
   "metadata": {
    "scrolled": true
   },
   "outputs": [],
   "source": [
    "doc_terms = tf_doc(Background_Corpora_Json)"
   ]
  },
  {
   "cell_type": "code",
   "execution_count": 210,
   "metadata": {},
   "outputs": [
    {
     "name": "stdout",
     "output_type": "stream",
     "text": [
      "Example of TF per menu: \n",
      "{'0': {'spaghetti': 4, 'guanciale': 4, 'tuorli': 2, 'uova': 2, 'medie': 1, 'pecorino': 4, 'romano': 1, 'pepe': 3, 'nero': 3, 'preparare': 1, 'carbonara': 2, 'cominciate': 1, 'mettendo': 1, 'fuoco': 3, 'pentola': 1, 'lacqua': 1, 'salata': 1, 'cuocere': 1, 'pasta': 4, 'frattempo': 2, 'eliminate': 1, 'cotenna': 2, 'tagliatelo': 1, 'prima': 1, 'fette': 1, 'poi': 1, 'striscioline': 1, 'spesse': 1, 'circa': 2, 'cm': 1, 'avanzata': 1, 'potrà': 1, 'essere': 1, 'riutilizzata': 1, 'insaporire': 1, 'altre': 1, 'preparazioni': 1, 'versate': 3, 'pezzetti': 1, 'padella': 1, 'antiaderente': 1, 'rosolate': 1, 'minuti': 1, 'fiamma': 1, 'media': 1, 'fate': 1, 'attenzione': 1, 'bruciarlo': 1, 'altrimenti': 1, 'rilascerà': 1, 'aroma': 1, 'troppo': 1, 'forte': 1, 'tuffate': 1, 'nellacqua': 1, 'bollente': 1, 'cuoceteli': 1, 'tempo': 1, 'indicato': 1, 'confezione': 1, 'intanto': 2, 'ciotola': 1, 'aggiungete': 2, 'maggior': 1, 'parte': 3, 'previsto': 1, 'ricetta': 1, 'restante': 1, 'servirà': 1, 'guarnire': 1, 'insaporite': 1, 'amalgamate': 1, 'frusta': 1, 'mano': 1, 'cucchiaio': 1, 'acqua': 2, 'cottura': 3, 'diluire': 1, 'composto': 2, 'mescolate': 2, 'giunto': 1, 'spegnete': 1, 'tenetelo': 1, 'scolate': 1, 'dente': 1, 'direttamente': 1, 'tegame': 2, 'saltatela': 1, 'brevemente': 1, 'insaporirla': 1, 'togliete': 1, 'velocemente': 1, 'amalgamare': 1, 'renderla': 1, 'ben': 1, 'cremosa': 1, 'bisogno': 1, 'potete': 1, 'aggiungere': 1, 'poca': 1, 'servite': 1, 'subito': 1, 'insaporendoli': 1, 'avanzato': 1, 'macinato': 1, 'piacere': 1}}\n"
     ]
    }
   ],
   "source": [
    "print('Example of TF per menu: ')\n",
    "print({k: doc_terms[k] for k in list(doc_terms)[:1]})"
   ]
  },
  {
   "cell_type": "code",
   "execution_count": null,
   "metadata": {
    "scrolled": true
   },
   "outputs": [],
   "source": [
    "term_docs = inv_index(Background_Corpora_Json, all_tokens)"
   ]
  },
  {
   "cell_type": "code",
   "execution_count": null,
   "metadata": {},
   "outputs": [],
   "source": [
    "print('Example of Inverted Index: ')\n",
    "print({k: term_docs[k] for k in list(term_docs)[:4]})"
   ]
  },
  {
   "cell_type": "code",
   "execution_count": null,
   "metadata": {},
   "outputs": [],
   "source": [
    "grams_dic = term_grams(all_tokens, all_ngrams)"
   ]
  },
  {
   "cell_type": "code",
   "execution_count": null,
   "metadata": {
    "scrolled": false
   },
   "outputs": [],
   "source": [
    "print('Example of grams associated with term: ')\n",
    "print({k: grams_dic[k] for k in list(grams_dic)[:2]})"
   ]
  },
  {
   "cell_type": "markdown",
   "metadata": {},
   "source": [
    "## Examples from our Test corpus"
   ]
  },
  {
   "cell_type": "markdown",
   "metadata": {},
   "source": [
    "Here we read and analyze the 10 menus from our scraped corpus and provide some insights as follows"
   ]
  },
  {
   "cell_type": "code",
   "execution_count": 200,
   "metadata": {
    "scrolled": true
   },
   "outputs": [
    {
     "name": "stdout",
     "output_type": "stream",
     "text": [
      "{'Ristorante Piccolo - Washington, DC': ['melanzane formaggio capra', 'calamari fritti', 'fritti', 'portobello', 'asparagi', 'funghi quattro formaggio', 'scarpariello', 'cozze alla parigina', 'gamberoni fradiavolo', 'arancini ragù formaggio', 'antipasto', 'carpaccio salmone', 'burrata altopiano delle murge', 'pappa pomodoro', 'fagioli alla veneto', 'margherita siciliano', 'ragu bolognese', 'pollo grigliata pesto', 'bruschetta pomodori', 'bruschetta caponata', 'bruschetta granchio', 'insalata mista', 'insalata cesare', 'insalata finocchio noci', 'insalata frutti', 'insalata pomodoro basilico', 'insalata arugula', 'insalata toscano tritare', 'caprese', 'italian burger', 'italiano hoagie', 'pollo parmigiano hoagie', 'italian salume hoagie', 'portobello', 'puttanesca', 'rigatoni gorgonzola', 'bucatini bolognese', 'paisano', 'capellini pomodoro', 'risotto porcini', 'agnolotti porcini', 'gnocchi spampinato', 'aragosta', 'verde', 'tortellini carbonara', 'polpettone', 'verdura', 'manicotti', 'scaloppine vitello marsala', 'scaloppine pollo marsala', 'vitello parmigiano', 'melanzane parmigiano', 'pollo parmigiano', 'pollo milanese', 'bistecca tartufo', 'vitello piccata', 'petto pollo incrostato pistacche', 'cioppino tutto', 'frutti cartoccio', 'fettuccine oceano', 'linguine alle vongole', 'risotto frutti'], 'La Storia - Chicago, IL': ['insalata spinaci', 'salumi', 'zuppa giorno', 'vitello tonnato', 'burrata', 'calamari fritti', 'tartare tonno rosso', 'polpo arrosto', 'polpette', 'gnocchi alla genovese', 'neri alla carbonara', 'alla', 'tagliatelle verdi alla bolognese', 'malloreddus allo zafferano', 'alla bolognese', 'orecchitte pugliese', 'risotto allastice', 'risotto zucca', 'risotto funghi porcini', 'pesce del giorno', 'branzino livornese', 'baccala forno', 'tonno rosso alla griglia', 'tagliata manzo', 'pollo alla cacciatora', 'spalla maiale', 'stinco agnelo', 'caponata melanzane', 'sautee'], 'Portofino - Arlington, VA': ['cozze marinara', 'calamari fritti', 'croccante', 'prosciutto', 'involtini melanzane', 'antipasto italiano', 'frutti', 'minestrone', 'zuppe polpettini', 'tortellini brodo', 'insalata portofino', 'insalata caprese', 'insalata spinacio', 'insalata veronese', 'insalata cesare', 'insalata verde', 'orecchiette quattro funghi', 'portofino', 'linguini vongole', 'melanzane portofino', 'linguini pesto genovese', 'gnocchi alla portofino', 'lasagne bolognese', 'bucatini alla carbonara', 'cannelloni', 'linguine', 'tortellini vitello suo piacere', 'risotto aragosta zafferano', 'fettucine alla alfredo', 'saltimboca alla romana', 'cotoletta alla parmigiana', 'costoletta vitello alla fiorentina', 'scalloppine alla sorrentina', 'bocconcini dello', 'picatta vitello', 'scalloppine marsala', 'scalloppine alla triestina', 'petto pollo marsala', 'picatta pollo', 'pollo portofino', 'pollo alla rustica', 'filetto alla gorgonzola', 'filetto alla vinci', 'bistecca pizzaiola', 'costolette dagnello', 'omaggi nettuno', 'santé pomodoro basilico', 'scampi diavola', 'cioppino', 'cacciuco livornese', 'almondine', 'gamberi'], 'Otello - Washington, DC': ['antipasto', 'fritti', 'insalata capri', 'bruschetta capri', 'scarola stufata', 'carrozza', 'prosciutto melone', 'peperoni alla griglia', 'insalata mista', 'amp fagioli', 'caesar', 'linguine burli', 'linguine alle vongole', 'linguine seafoo', 'capellini formaggio episelli', 'alla bolognese', 'pomodoro basilico', 'gnocchi della casa', 'tortellini alla crema funghi', 'tortellini basilico', 'penne alla salsiccia', 'fettuccine alfredo', 'penne puttanesca', 'penne alla sorrentina', 'rigatoni mirella', 'rigatoni alla', 'saltimbocca alla romana', 'scaloppini alla michele', 'rulata pollo', 'petti pollo peperoni', 'piccata limone', 'cuscinetti vitello', 'calamari piacere', 'zuppa pesce', 'capesante alla diavolo', 'trota alla livornese', 'sogliola alla fiorentina', 'baccala alla pescatore', 'salmone alla caprese', 'tartufo', 'espresso', 'cappuccino'], 'I Ricchi - Washington, DC': ['buratta bufala', 'polipo panzanella', 'cozze', 'calamari', 'polpette', 'prosciutto melone', 'salsiccie amp fagioli', 'funghi farciti', 'ribollita', 'funghi', 'insalata mista', 'barbabietola', 'tonno conserva', 'caprese', 'alla romagnola', 'vegetariano', 'tortelloni', 'rigatoni strascicate', 'tagliarini vongole', 'pici allaglione', 'cavatelli neri', 'risotto del giorno', 'del giorno', 'pesce del giorno', 'tagliata', 'capesante amp gamberi', 'trota', 'pollo paillar', 'costoletta alla milanese', 'bietola', 'patate alla ghiotta', 'fagioli'], 'Il Canale - Washington, DC': ['prosciutto bufala', 'bruschetta', 'bresaola', 'prosciutto melone', 'arancini siciliani', 'polpette sugo', 'impepata cozze', 'carrozza', 'focaccia', 'classico', 'pollo', 'imbottito', 'margherita', 'diavola', 'quattro formaggi', 'georgetown', 'vegetariana rossa', 'calzone', 'tunnarella', 'ciliegina', 'caesar', 'caprese', 'tagliata manzo', 'rolle pollo', 'branzino cartoccio', 'salmone alla', 'gnocchi', 'pomodoro pesto', 'scialatielli allo scoglio', 'cannelloni'], 'Valentinos - Nashville, TN': ['antipasto toscano', 'calamari fritti', 'prosciutto', 'scampi forno', 'valentinos flatbrea', 'oreganata', 'marinara', 'carpaccio', 'caesar', 'arugula', 'fagioli', 'caprese', 'frutti', 'gnocchi', 'risotto del giorno', 'bucatini', 'gigli toscano', 'garganelli', 'espresso rubb', 'ribeye', 'manhattan', 'scarpariello', 'scottish', 'parmesan', 'saltimbocca', 'osso bucco', 'cioppino', 'pancetta scamorza', 'cacio pepe', 'sauté', 'prosciutto wrapp', 'tiramisu', 'flourless'], 'Osteria la Spiga - Seattle, WA': ['cestino piadina', 'cestino gnocco fritto', 'affettati misti', 'prosciutto', 'formaggi misti', 'grigliate', 'tortelli agli asparagi', 'tagliolini sugo stridoli', 'gnocchi pomodoro', 'tagliatelle tartufo', 'tagliatelle ragu', 'lasagne verdi', 'stinco maiale forno', 'stuzzichini del giorno', 'vellutata zucca mais', 'patate arrosto', 'fritta', 'insalata', 'insalata mista della casa', 'ciambella', 'il mascarpone ida', 'panna', 'nocciola'], 'Via dei Tribunali - Seattle, WA': ['marinara', 'margherita', 'margherita ', 'quattro formaggi', 'tribunali specialita della casa', 'puttanesca', 'funghi', 'prosciutto crudo', 'prosciutto funghi', 'quattro stagioni', 'salame', 'dante', 'spaccanapoli', 'misto salumi', 'salsiccia rapini', 'salsiccia cipolla', 'salsiccia', 'lupino', 'capricciosa', 'spinaci', 'tonno', 'vongole', 'campania', 'salsiccia peperoni cipolle', 'misto salumi', 'bufala prosciutto', 'pomodori forno', 'burrata', 'insalata', 'insalata della casa', 'insalata caesar', 'vongole', 'polpette pomodoro', 'forno', 'linguine vongole', 'rigatoni bolognese', 'calzone salame', 'calzone napoletano', 'vesuvio specialita della casa', 'tiramisu', 'affogato', 'mezza', 'panna', 'caffe espresso', 'americano', 'cappuccino'], 'Il Terrazzo Carmine - Seattle, WA': ['calamari affogati', 'carpaccio bue', 'spinaci soffritti', 'gamberoni provinciale', 'insalata caesar', 'insalata mista', 'insalata caprese', 'insalata campagnola', 'insalata manzo', 'insalata pollo suprema', 'insalata portofino', 'gamberi', 'crema cavolfiore', 'fagioli scarola', 'spaghettini ortolano', 'gnocchi alla sorrentina', 'linquine alle vongole', 'pennette salmone', 'ravioloni pesce', 'fettuccine pesto gamberi', 'rigatoni bolognese', 'capellini', 'capriolo', 'cannelloni napoletani', 'risotto del giorno', 'piccata vitello capperi', 'suprema pollo alla griglia', 'parmigiana melanzane', 'animelle prosciutto asparaci', 'cioppino napoletano', 'costata maiale', 'bistecca pepe', 'pesce del giorno']}\n"
     ]
    }
   ],
   "source": [
    "# Importing the background corpus\n",
    "with open('data/Test Corpus.json', 'r') as j:\n",
    "        Test_Corpus_Json = json.load(j)\n",
    "print(Test_Corpus_Json)"
   ]
  },
  {
   "cell_type": "code",
   "execution_count": 201,
   "metadata": {
    "scrolled": true
   },
   "outputs": [
    {
     "name": "stdout",
     "output_type": "stream",
     "text": [
      "{'Ristorante Piccolo - Washington, DC': ['melanzane', 'formaggio', 'capra', 'calamari', 'fritti', 'fritti', 'portobello', 'asparagi', 'funghi', 'quattro', 'formaggio', 'scarpariello', 'cozze', 'parigina', 'gamberoni', 'fradiavolo', 'arancini', 'ragù', 'formaggio', 'antipasto', 'carpaccio', 'salmone', 'burrata', 'altopiano', 'murge', 'pappa', 'pomodoro', 'fagioli', 'veneto', 'margherita', 'siciliano', 'ragu', 'bolognese', 'pollo', 'grigliata', 'pesto', 'bruschetta', 'pomodori', 'bruschetta', 'caponata', 'bruschetta', 'granchio', 'insalata', 'mista', 'insalata', 'cesare', 'insalata', 'finocchio', 'noci', 'insalata', 'frutti', 'insalata', 'pomodoro', 'basilico', 'insalata', 'arugula', 'insalata', 'toscano', 'tritare', 'caprese', 'italian', 'burger', 'italiano', 'hoagie', 'pollo', 'parmigiano', 'hoagie', 'italian', 'salume', 'hoagie', 'portobello', 'puttanesca', 'rigatoni', 'gorgonzola', 'bucatini', 'bolognese', 'paisano', 'capellini', 'pomodoro', 'risotto', 'porcini', 'agnolotti', 'porcini', 'gnocchi', 'spampinato', 'aragosta', 'verde', 'tortellini', 'carbonara', 'polpettone', 'verdura', 'manicotti', 'scaloppine', 'vitello', 'marsala', 'scaloppine', 'pollo', 'marsala', 'vitello', 'parmigiano', 'melanzane', 'parmigiano', 'pollo', 'parmigiano', 'pollo', 'milanese', 'bistecca', 'tartufo', 'vitello', 'piccata', 'petto', 'pollo', 'incrostato', 'pistacche', 'cioppino', 'frutti', 'cartoccio', 'fettuccine', 'oceano', 'linguine', 'vongole', 'risotto', 'frutti'], 'La Storia - Chicago, IL': ['insalata', 'spinaci', 'salumi', 'zuppa', 'giorno', 'vitello', 'tonnato', 'burrata', 'calamari', 'fritti', 'tartare', 'tonno', 'rosso', 'polpo', 'arrosto', 'polpette', 'gnocchi', 'genovese', 'neri', 'carbonara', 'tagliatelle', 'verdi', 'bolognese', 'malloreddus', 'zafferano', 'bolognese', 'orecchitte', 'pugliese', 'risotto', 'allastice', 'risotto', 'zucca', 'risotto', 'funghi', 'porcini', 'pesce', 'giorno', 'branzino', 'livornese', 'baccala', 'forno', 'tonno', 'rosso', 'griglia', 'tagliata', 'manzo', 'pollo', 'cacciatora', 'spalla', 'maiale', 'stinco', 'agnelo', 'caponata', 'melanzane', 'sautee'], 'Portofino - Arlington, VA': ['cozze', 'marinara', 'calamari', 'fritti', 'croccante', 'prosciutto', 'involtini', 'melanzane', 'antipasto', 'italiano', 'frutti', 'minestrone', 'zuppe', 'polpettini', 'tortellini', 'brodo', 'insalata', 'portofino', 'insalata', 'caprese', 'insalata', 'spinacio', 'insalata', 'veronese', 'insalata', 'cesare', 'insalata', 'verde', 'orecchiette', 'quattro', 'funghi', 'portofino', 'linguini', 'vongole', 'melanzane', 'portofino', 'linguini', 'pesto', 'genovese', 'gnocchi', 'portofino', 'lasagne', 'bolognese', 'bucatini', 'carbonara', 'cannelloni', 'linguine', 'tortellini', 'vitello', 'piacere', 'risotto', 'aragosta', 'zafferano', 'fettucine', 'alfredo', 'saltimboca', 'romana', 'cotoletta', 'parmigiana', 'costoletta', 'vitello', 'fiorentina', 'scalloppine', 'sorrentina', 'bocconcini', 'picatta', 'vitello', 'scalloppine', 'marsala', 'scalloppine', 'triestina', 'petto', 'pollo', 'marsala', 'picatta', 'pollo', 'pollo', 'portofino', 'pollo', 'rustica', 'filetto', 'gorgonzola', 'filetto', 'vinci', 'bistecca', 'pizzaiola', 'costolette', 'dagnello', 'omaggi', 'nettuno', 'santé', 'pomodoro', 'basilico', 'scampi', 'diavola', 'cioppino', 'cacciuco', 'livornese', 'almondine', 'gamberi'], 'Otello - Washington, DC': ['antipasto', 'fritti', 'insalata', 'capri', 'bruschetta', 'capri', 'scarola', 'stufata', 'carrozza', 'prosciutto', 'melone', 'peperoni', 'griglia', 'insalata', 'mista', 'amp', 'fagioli', 'caesar', 'linguine', 'burli', 'linguine', 'vongole', 'linguine', 'seafoo', 'capellini', 'formaggio', 'episelli', 'bolognese', 'pomodoro', 'basilico', 'gnocchi', 'casa', 'tortellini', 'crema', 'funghi', 'tortellini', 'basilico', 'penne', 'salsiccia', 'fettuccine', 'alfredo', 'penne', 'puttanesca', 'penne', 'sorrentina', 'rigatoni', 'mirella', 'rigatoni', 'saltimbocca', 'romana', 'scaloppini', 'michele', 'rulata', 'pollo', 'petti', 'pollo', 'peperoni', 'piccata', 'limone', 'cuscinetti', 'vitello', 'calamari', 'piacere', 'zuppa', 'pesce', 'capesante', 'diavolo', 'trota', 'livornese', 'sogliola', 'fiorentina', 'baccala', 'pescatore', 'salmone', 'caprese', 'tartufo', 'espresso', 'cappuccino'], 'I Ricchi - Washington, DC': ['buratta', 'bufala', 'polipo', 'panzanella', 'cozze', 'calamari', 'polpette', 'prosciutto', 'melone', 'salsiccie', 'amp', 'fagioli', 'funghi', 'farciti', 'ribollita', 'funghi', 'insalata', 'mista', 'barbabietola', 'tonno', 'conserva', 'caprese', 'romagnola', 'vegetariano', 'tortelloni', 'rigatoni', 'strascicate', 'tagliarini', 'vongole', 'pici', 'allaglione', 'cavatelli', 'neri', 'risotto', 'giorno', 'giorno', 'pesce', 'giorno', 'tagliata', 'capesante', 'amp', 'gamberi', 'trota', 'pollo', 'paillar', 'costoletta', 'milanese', 'bietola', 'patate', 'ghiotta', 'fagioli'], 'Il Canale - Washington, DC': ['prosciutto', 'bufala', 'bruschetta', 'bresaola', 'prosciutto', 'melone', 'arancini', 'siciliani', 'polpette', 'sugo', 'impepata', 'cozze', 'carrozza', 'focaccia', 'classico', 'pollo', 'imbottito', 'margherita', 'diavola', 'quattro', 'formaggi', 'georgetown', 'vegetariana', 'rossa', 'calzone', 'tunnarella', 'ciliegina', 'caesar', 'caprese', 'tagliata', 'manzo', 'rolle', 'pollo', 'branzino', 'cartoccio', 'salmone', 'gnocchi', 'pomodoro', 'pesto', 'scialatielli', 'scoglio', 'cannelloni'], 'Valentinos - Nashville, TN': ['antipasto', 'toscano', 'calamari', 'fritti', 'prosciutto', 'scampi', 'forno', 'valentinos', 'flatbrea', 'oreganata', 'marinara', 'carpaccio', 'caesar', 'arugula', 'fagioli', 'caprese', 'frutti', 'gnocchi', 'risotto', 'giorno', 'bucatini', 'gigli', 'toscano', 'garganelli', 'espresso', 'rubb', 'ribeye', 'manhattan', 'scarpariello', 'scottish', 'parmesan', 'saltimbocca', 'osso', 'bucco', 'cioppino', 'pancetta', 'scamorza', 'cacio', 'pepe', 'sauté', 'prosciutto', 'wrapp', 'tiramisu', 'flourless'], 'Osteria la Spiga - Seattle, WA': ['cestino', 'piadina', 'cestino', 'gnocco', 'fritto', 'affettati', 'misti', 'prosciutto', 'formaggi', 'misti', 'grigliate', 'tortelli', 'asparagi', 'tagliolini', 'sugo', 'stridoli', 'gnocchi', 'pomodoro', 'tagliatelle', 'tartufo', 'tagliatelle', 'ragu', 'lasagne', 'verdi', 'stinco', 'maiale', 'forno', 'stuzzichini', 'giorno', 'vellutata', 'zucca', 'mais', 'patate', 'arrosto', 'fritta', 'insalata', 'insalata', 'mista', 'casa', 'ciambella', 'mascarpone', 'ida', 'panna', 'nocciola'], 'Via dei Tribunali - Seattle, WA': ['marinara', 'margherita', 'margherita', 'quattro', 'formaggi', 'tribunali', 'specialita', 'casa', 'puttanesca', 'funghi', 'prosciutto', 'crudo', 'prosciutto', 'funghi', 'quattro', 'stagioni', 'salame', 'dante', 'spaccanapoli', 'misto', 'salumi', 'salsiccia', 'rapini', 'salsiccia', 'cipolla', 'salsiccia', 'lupino', 'capricciosa', 'spinaci', 'tonno', 'vongole', 'campania', 'salsiccia', 'peperoni', 'cipolle', 'misto', 'salumi', 'bufala', 'prosciutto', 'pomodori', 'forno', 'burrata', 'insalata', 'insalata', 'casa', 'insalata', 'caesar', 'vongole', 'polpette', 'pomodoro', 'forno', 'linguine', 'vongole', 'rigatoni', 'bolognese', 'calzone', 'salame', 'calzone', 'napoletano', 'vesuvio', 'specialita', 'casa', 'tiramisu', 'affogato', 'mezza', 'panna', 'caffe', 'espresso', 'americano', 'cappuccino'], 'Il Terrazzo Carmine - Seattle, WA': ['calamari', 'affogati', 'carpaccio', 'bue', 'spinaci', 'soffritti', 'gamberoni', 'provinciale', 'insalata', 'caesar', 'insalata', 'mista', 'insalata', 'caprese', 'insalata', 'campagnola', 'insalata', 'manzo', 'insalata', 'pollo', 'suprema', 'insalata', 'portofino', 'gamberi', 'crema', 'cavolfiore', 'fagioli', 'scarola', 'spaghettini', 'ortolano', 'gnocchi', 'sorrentina', 'linquine', 'vongole', 'pennette', 'salmone', 'ravioloni', 'pesce', 'fettuccine', 'pesto', 'gamberi', 'rigatoni', 'bolognese', 'capellini', 'capriolo', 'cannelloni', 'napoletani', 'risotto', 'giorno', 'piccata', 'vitello', 'capperi', 'suprema', 'pollo', 'griglia', 'parmigiana', 'melanzane', 'animelle', 'prosciutto', 'asparaci', 'cioppino', 'napoletano', 'costata', 'maiale', 'bistecca', 'pepe', 'pesce', 'giorno']}\n"
     ]
    }
   ],
   "source": [
    "all_tokens_test = get_tokens_test(Test_Corpus_Json)\n",
    "print({k: all_tokens_test[k] for k in list(all_tokens_test)[:20]})"
   ]
  },
  {
   "cell_type": "code",
   "execution_count": 202,
   "metadata": {},
   "outputs": [
    {
     "name": "stdout",
     "output_type": "stream",
     "text": [
      "{'Ristorante Piccolo - Washington, DC': {'verdura', 'arugula', 'ragù', 'caponata', 'siciliano', 'polpettone', 'bolognese', 'scaloppine', 'cartoccio', 'petto', 'milanese', 'gamberoni', 'basilico', 'cioppino', 'fritti', 'altopiano', 'parigina', 'insalata', 'porcini', 'frutti', 'verde', 'linguine', 'marsala', 'portobello', 'caprese', 'salmone', 'scarpariello', 'bucatini', 'aragosta', 'tritare', 'fettuccine', 'tortellini', 'italian', 'gnocchi', 'arancini', 'margherita', 'agnolotti', 'capra', 'fradiavolo', 'melanzane', 'paisano', 'oceano', 'cozze', 'fagioli', 'pesto', 'calamari', 'vitello', 'finocchio', 'manicotti', 'ragu', 'pomodori', 'pistacche', 'gorgonzola', 'quattro', 'veneto', 'burrata', 'rigatoni', 'bruschetta', 'italiano', 'noci', 'carbonara', 'tartufo', 'formaggio', 'granchio', 'salume', 'cesare', 'funghi', 'grigliata', 'hoagie', 'vongole', 'asparagi', 'carpaccio', 'parmigiano', 'puttanesca', 'pomodoro', 'bistecca', 'toscano', 'capellini', 'mista', 'piccata', 'risotto', 'murge', 'antipasto', 'pollo', 'incrostato', 'pappa', 'spampinato', 'burger'}, 'La Storia - Chicago, IL': {'calamari', 'vitello', 'polpette', 'tonnato', 'zafferano', 'tonno', 'pesce', 'arrosto', 'giorno', 'zuppa', 'genovese', 'funghi', 'bolognese', 'forno', 'caponata', 'burrata', 'verdi', 'maiale', 'zucca', 'allastice', 'polpo', 'salumi', 'gnocchi', 'neri', 'rosso', 'orecchitte', 'risotto', 'pollo', 'griglia', 'carbonara', 'manzo', 'spalla', 'melanzane', 'tagliata', 'fritti', 'agnelo', 'spinaci', 'stinco', 'tartare', 'insalata', 'malloreddus', 'branzino', 'sautee', 'cacciatora', 'porcini', 'livornese', 'baccala', 'tagliatelle', 'pugliese'}, 'Portofino - Arlington, VA': {'vinci', 'omaggi', 'veronese', 'genovese', 'cotoletta', 'bolognese', 'petto', 'rustica', 'picatta', 'basilico', 'croccante', 'cioppino', 'fritti', 'almondine', 'insalata', 'livornese', 'polpettini', 'frutti', 'verde', 'cannelloni', 'linguine', 'parmigiana', 'minestrone', 'sorrentina', 'marsala', 'piacere', 'caprese', 'diavola', 'linguini', 'bucatini', 'aragosta', 'lasagne', 'tortellini', 'gnocchi', 'nettuno', 'melanzane', 'orecchiette', 'filetto', 'scampi', 'pizzaiola', 'cozze', 'pesto', 'calamari', 'vitello', 'spinacio', 'saltimboca', 'gorgonzola', 'quattro', 'costoletta', 'triestina', 'prosciutto', 'portofino', 'italiano', 'fettucine', 'scalloppine', 'carbonara', 'dagnello', 'cesare', 'funghi', 'costolette', 'bocconcini', 'zafferano', 'vongole', 'involtini', 'romana', 'pomodoro', 'gamberi', 'cacciuco', 'bistecca', 'marinara', 'santé', 'fiorentina', 'risotto', 'antipasto', 'pollo', 'brodo', 'alfredo', 'zuppe'}, 'Otello - Washington, DC': {'calamari', 'casa', 'vitello', 'peperoni', 'cappuccino', 'episelli', 'trota', 'limone', 'pescatore', 'vongole', 'espresso', 'linguine', 'romana', 'mirella', 'sorrentina', 'pesce', 'puttanesca', 'zuppa', 'pomodoro', 'bolognese', 'saltimbocca', 'piacere', 'sogliola', 'caprese', 'salmone', 'caesar', 'penne', 'capellini', 'prosciutto', 'stufata', 'bruschetta', 'rigatoni', 'seafoo', 'fettuccine', 'mista', 'amp', 'capri', 'tortellini', 'diavolo', 'scarola', 'gnocchi', 'piccata', 'burli', 'basilico', 'fiorentina', 'antipasto', 'pollo', 'griglia', 'michele', 'scaloppini', 'melone', 'salsiccia', 'fritti', 'tartufo', 'formaggio', 'petti', 'crema', 'rulata', 'carrozza', 'insalata', 'alfredo', 'livornese', 'baccala', 'capesante', 'cuscinetti', 'fagioli', 'funghi'}, 'I Ricchi - Washington, DC': {'calamari', 'polpette', 'panzanella', 'romagnola', 'salsiccie', 'trota', 'polipo', 'vongole', 'buratta', 'paillar', 'ribollita', 'tonno', 'pesce', 'giorno', 'gamberi', 'caprese', 'pici', 'costoletta', 'tortelloni', 'cavatelli', 'conserva', 'tagliarini', 'prosciutto', 'rigatoni', 'mista', 'amp', 'milanese', 'neri', 'farciti', 'risotto', 'patate', 'pollo', 'bietola', 'melone', 'ghiotta', 'tagliata', 'allaglione', 'bufala', 'insalata', 'strascicate', 'vegetariano', 'barbabietola', 'cozze', 'capesante', 'fagioli', 'funghi'}}\n"
     ]
    }
   ],
   "source": [
    "menus = set_menu(all_tokens_test)\n",
    "print({k: menus[k] for k in list(menus)[:5]})"
   ]
  },
  {
   "cell_type": "markdown",
   "metadata": {},
   "source": [
    "### Check for typos in the menus"
   ]
  },
  {
   "cell_type": "code",
   "execution_count": 203,
   "metadata": {},
   "outputs": [],
   "source": [
    "final_results = {}\n",
    "for key, value in menus.items():\n",
    "    result, errs = checker(words_freq.keys(), value)\n",
    "    final_results[key] = result, errs"
   ]
  },
  {
   "cell_type": "code",
   "execution_count": 204,
   "metadata": {},
   "outputs": [],
   "source": [
    "# cell to delete eventually once found out about the module error\n",
    "def scoring(result):\n",
    "    if result <= 5:\n",
    "        scores = 5\n",
    "        img = mpimg.imread('images/nonna-open.jpg')\n",
    "    elif result >= 6 and result <= 10:\n",
    "        scores = 4\n",
    "        img = mpimg.imread('images/Red-Sauce-Raos.jpg')\n",
    "    elif result >= 11 and result <= 15:\n",
    "        scores = 3\n",
    "        img = mpimg.imread('images/rosie-s-italian-grille.jpg')\n",
    "    elif result >= 16 and result <= 20:\n",
    "        scores = 2\n",
    "        img = mpimg.imread('images/olive_garden.jpg')\n",
    "    else:\n",
    "        scores = 1\n",
    "        img = mpimg.imread('images/pizza_deep.jpg')\n",
    "\n",
    "    return scores, img"
   ]
  },
  {
   "cell_type": "markdown",
   "metadata": {},
   "source": [
    "### Assign our scores to each menu"
   ]
  },
  {
   "cell_type": "code",
   "execution_count": 205,
   "metadata": {},
   "outputs": [],
   "source": [
    "dic_scoring = {}\n",
    "for key, value in final_results.items():\n",
    "    score, img = scoring(value[0])\n",
    "    dic_scoring[key] = value, score, img"
   ]
  },
  {
   "cell_type": "code",
   "execution_count": 206,
   "metadata": {},
   "outputs": [],
   "source": [
    "df_errors = []\n",
    "for key, value in dic_scoring.items():\n",
    "    df = {'Restaurant': key, 'Errors': value[0][1], '# Errors': value[0][0], 'Score': value[1]}\n",
    "    df_errors.append(df)\n",
    "df_errors = pd.DataFrame(df_errors, columns=['Restaurant', 'Errors','# Errors', 'Score'])"
   ]
  },
  {
   "cell_type": "markdown",
   "metadata": {},
   "source": [
    "### Here's how these restaurants performed and what mistakes our program detected"
   ]
  },
  {
   "cell_type": "code",
   "execution_count": 207,
   "metadata": {
    "scrolled": false
   },
   "outputs": [
    {
     "data": {
      "text/html": [
       "<div>\n",
       "<style scoped>\n",
       "    .dataframe tbody tr th:only-of-type {\n",
       "        vertical-align: middle;\n",
       "    }\n",
       "\n",
       "    .dataframe tbody tr th {\n",
       "        vertical-align: top;\n",
       "    }\n",
       "\n",
       "    .dataframe thead th {\n",
       "        text-align: right;\n",
       "    }\n",
       "</style>\n",
       "<table border=\"1\" class=\"dataframe\">\n",
       "  <thead>\n",
       "    <tr style=\"text-align: right;\">\n",
       "      <th></th>\n",
       "      <th>Restaurant</th>\n",
       "      <th>Errors</th>\n",
       "      <th># Errors</th>\n",
       "      <th>Score</th>\n",
       "    </tr>\n",
       "  </thead>\n",
       "  <tbody>\n",
       "    <tr>\n",
       "      <th>1</th>\n",
       "      <td>La Storia - Chicago, IL</td>\n",
       "      <td>[neri, orecchitte, agnelo, malloreddus, sautee]</td>\n",
       "      <td>5</td>\n",
       "      <td>5</td>\n",
       "    </tr>\n",
       "    <tr>\n",
       "      <th>5</th>\n",
       "      <td>Il Canale - Washington, DC</td>\n",
       "      <td>[georgetown, imbottito]</td>\n",
       "      <td>2</td>\n",
       "      <td>5</td>\n",
       "    </tr>\n",
       "    <tr>\n",
       "      <th>7</th>\n",
       "      <td>Osteria la Spiga - Seattle, WA</td>\n",
       "      <td>[ragu, piadina, cestino, stuzzichini, ida, str...</td>\n",
       "      <td>6</td>\n",
       "      <td>4</td>\n",
       "    </tr>\n",
       "    <tr>\n",
       "      <th>8</th>\n",
       "      <td>Via dei Tribunali - Seattle, WA</td>\n",
       "      <td>[cappuccino, caffe, espresso, dante, tribunali...</td>\n",
       "      <td>10</td>\n",
       "      <td>4</td>\n",
       "    </tr>\n",
       "    <tr>\n",
       "      <th>4</th>\n",
       "      <td>I Ricchi - Washington, DC</td>\n",
       "      <td>[romagnola, salsiccie, trota, buratta, paillar...</td>\n",
       "      <td>13</td>\n",
       "      <td>3</td>\n",
       "    </tr>\n",
       "    <tr>\n",
       "      <th>9</th>\n",
       "      <td>Il Terrazzo Carmine - Seattle, WA</td>\n",
       "      <td>[affogati, ortolano, spaghettini, asparaci, an...</td>\n",
       "      <td>15</td>\n",
       "      <td>3</td>\n",
       "    </tr>\n",
       "    <tr>\n",
       "      <th>3</th>\n",
       "      <td>Otello - Washington, DC</td>\n",
       "      <td>[cappuccino, episelli, trota, espresso, mirell...</td>\n",
       "      <td>17</td>\n",
       "      <td>2</td>\n",
       "    </tr>\n",
       "    <tr>\n",
       "      <th>6</th>\n",
       "      <td>Valentinos - Nashville, TN</td>\n",
       "      <td>[arugula, parmesan, manhattan, scottish, espre...</td>\n",
       "      <td>18</td>\n",
       "      <td>2</td>\n",
       "    </tr>\n",
       "    <tr>\n",
       "      <th>0</th>\n",
       "      <td>Ristorante Piccolo - Washington, DC</td>\n",
       "      <td>[arugula, cioppino, altopiano, parigina, scarp...</td>\n",
       "      <td>24</td>\n",
       "      <td>1</td>\n",
       "    </tr>\n",
       "    <tr>\n",
       "      <th>2</th>\n",
       "      <td>Portofino - Arlington, VA</td>\n",
       "      <td>[vinci, omaggi, veronese, picatta, cioppino, a...</td>\n",
       "      <td>23</td>\n",
       "      <td>1</td>\n",
       "    </tr>\n",
       "  </tbody>\n",
       "</table>\n",
       "</div>"
      ],
      "text/plain": [
       "                            Restaurant  \\\n",
       "1              La Storia - Chicago, IL   \n",
       "5           Il Canale - Washington, DC   \n",
       "7       Osteria la Spiga - Seattle, WA   \n",
       "8      Via dei Tribunali - Seattle, WA   \n",
       "4            I Ricchi - Washington, DC   \n",
       "9    Il Terrazzo Carmine - Seattle, WA   \n",
       "3              Otello - Washington, DC   \n",
       "6           Valentinos - Nashville, TN   \n",
       "0  Ristorante Piccolo - Washington, DC   \n",
       "2            Portofino - Arlington, VA   \n",
       "\n",
       "                                              Errors  # Errors  Score  \n",
       "1    [neri, orecchitte, agnelo, malloreddus, sautee]         5      5  \n",
       "5                            [georgetown, imbottito]         2      5  \n",
       "7  [ragu, piadina, cestino, stuzzichini, ida, str...         6      4  \n",
       "8  [cappuccino, caffe, espresso, dante, tribunali...        10      4  \n",
       "4  [romagnola, salsiccie, trota, buratta, paillar...        13      3  \n",
       "9  [affogati, ortolano, spaghettini, asparaci, an...        15      3  \n",
       "3  [cappuccino, episelli, trota, espresso, mirell...        17      2  \n",
       "6  [arugula, parmesan, manhattan, scottish, espre...        18      2  \n",
       "0  [arugula, cioppino, altopiano, parigina, scarp...        24      1  \n",
       "2  [vinci, omaggi, veronese, picatta, cioppino, a...        23      1  "
      ]
     },
     "execution_count": 207,
     "metadata": {},
     "output_type": "execute_result"
    }
   ],
   "source": [
    "df_errors.sort_values('Score', ascending=False)"
   ]
  },
  {
   "cell_type": "code",
   "execution_count": 208,
   "metadata": {
    "scrolled": false
   },
   "outputs": [
    {
     "name": "stdout",
     "output_type": "stream",
     "text": [
      "------------------\n",
      "Restaurant:  Il Canale - Washington, DC\n",
      "# Errors:  2\n",
      "Errors:  ['georgetown', 'imbottito']\n",
      "Score:  5\n",
      "------------------\n",
      "Restaurant:  La Storia - Chicago, IL\n",
      "# Errors:  5\n",
      "Errors:  ['neri', 'orecchitte', 'agnelo', 'malloreddus', 'sautee']\n",
      "Score:  5\n",
      "------------------\n",
      "Restaurant:  Osteria la Spiga - Seattle, WA\n",
      "# Errors:  6\n",
      "Errors:  ['ragu', 'piadina', 'cestino', 'stuzzichini', 'ida', 'stridoli']\n",
      "Score:  4\n",
      "------------------\n",
      "Restaurant:  Via dei Tribunali - Seattle, WA\n",
      "# Errors:  10\n",
      "Errors:  ['cappuccino', 'caffe', 'espresso', 'dante', 'tribunali', 'campania', 'specialita', 'lupino', 'americano', 'spaccanapoli']\n",
      "Score:  4\n",
      "------------------\n",
      "Restaurant:  I Ricchi - Washington, DC\n",
      "# Errors:  13\n",
      "Errors:  ['romagnola', 'salsiccie', 'trota', 'buratta', 'paillar', 'costoletta', 'tortelloni', 'tagliarini', 'neri', 'bietola', 'allaglione', 'strascicate', 'vegetariano']\n",
      "Score:  3\n",
      "------------------\n",
      "Restaurant:  Il Terrazzo Carmine - Seattle, WA\n",
      "# Errors:  15\n",
      "Errors:  ['affogati', 'ortolano', 'spaghettini', 'asparaci', 'animelle', 'soffritti', 'capellini', 'ravioloni', 'piccata', 'campagnola', 'cioppino', 'provinciale', 'linquine', 'bue', 'capriolo']\n",
      "Score:  3\n",
      "------------------\n",
      "Restaurant:  Otello - Washington, DC\n",
      "# Errors:  17\n",
      "Errors:  ['cappuccino', 'episelli', 'trota', 'espresso', 'mirella', 'sogliola', 'capellini', 'seafoo', 'tortellini', 'diavolo', 'piccata', 'burli', 'michele', 'scaloppini', 'rulata', 'alfredo', 'cuscinetti']\n",
      "Score:  2\n",
      "------------------\n",
      "Restaurant:  Valentinos - Nashville, TN\n",
      "# Errors:  18\n",
      "Errors:  ['arugula', 'parmesan', 'manhattan', 'scottish', 'espresso', 'scarpariello', 'bucatini', 'gigli', 'flourless', 'flatbrea', 'osso', 'ribeye', 'wrapp', 'rubb', 'cioppino', 'oreganata', 'bucco', 'valentinos']\n",
      "Score:  2\n",
      "------------------\n",
      "Restaurant:  Portofino - Arlington, VA\n",
      "# Errors:  23\n",
      "Errors:  ['vinci', 'omaggi', 'veronese', 'picatta', 'cioppino', 'almondine', 'polpettini', 'linguini', 'bucatini', 'tortellini', 'nettuno', 'spinacio', 'saltimboca', 'costoletta', 'triestina', 'italiano', 'fettucine', 'scalloppine', 'cesare', 'cacciuco', 'santé', 'alfredo', 'zuppe']\n",
      "Score:  1\n",
      "------------------\n",
      "Restaurant:  Ristorante Piccolo - Washington, DC\n",
      "# Errors:  24\n",
      "Errors:  ['arugula', 'cioppino', 'altopiano', 'parigina', 'scarpariello', 'bucatini', 'tortellini', 'italian', 'fradiavolo', 'paisano', 'oceano', 'manicotti', 'ragu', 'pistacche', 'veneto', 'italiano', 'salume', 'cesare', 'hoagie', 'capellini', 'piccata', 'murge', 'incrostato', 'spampinato']\n",
      "Score:  1\n"
     ]
    }
   ],
   "source": [
    "for key, value in sorted(dic_scoring.items(), key=lambda x:x[1]):\n",
    "    print(\"------------------\")\n",
    "    print(\"Restaurant: \", key)\n",
    "    print(\"# Errors: \", value[0][0])\n",
    "    print(\"Errors: \", value[0][1])\n",
    "    print('Score: ', value[1])"
   ]
  },
  {
   "cell_type": "code",
   "execution_count": null,
   "metadata": {},
   "outputs": [],
   "source": []
  }
 ],
 "metadata": {
  "kernelspec": {
   "display_name": "Python 3",
   "language": "python",
   "name": "python3"
  },
  "toc": {
   "base_numbering": 1,
   "nav_menu": {},
   "number_sections": true,
   "sideBar": true,
   "skip_h1_title": false,
   "title_cell": "Table of Contents",
   "title_sidebar": "Contents",
   "toc_cell": false,
   "toc_position": {},
   "toc_section_display": true,
   "toc_window_display": false
  }
 },
 "nbformat": 4,
 "nbformat_minor": 2
}
