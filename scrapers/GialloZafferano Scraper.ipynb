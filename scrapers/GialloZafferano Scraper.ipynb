{
 "cells": [
  {
   "cell_type": "code",
   "execution_count": 1,
   "metadata": {},
   "outputs": [],
   "source": [
    "from bs4 import BeautifulSoup\n",
    "import requests\n",
    "import re\n",
    "import json\n",
    "import urllib.request as urllib2"
   ]
  },
  {
   "cell_type": "code",
   "execution_count": 2,
   "metadata": {},
   "outputs": [],
   "source": [
    "#creating a function that converts a list to a string\n",
    "def listToString(s):  \n",
    "    \n",
    "    # initialize an empty string \n",
    "    str1 = \" \" \n",
    "    \n",
    "    # return string   \n",
    "    return (str1.join(s))"
   ]
  },
  {
   "cell_type": "code",
   "execution_count": 9,
   "metadata": {},
   "outputs": [
    {
     "data": {
      "text/plain": [
       "'Spaghetti  g Guanciale  g Tuorli di uova medie  Pecorino romano  g Sale fino q.b. Pepe nero q.b. Per preparare gli spaghetti alla carbonara cominciate mettendo sul fuoco una pentola con lacqua salata per cuocere la pasta. Nel frattempo eliminate la cotenna dal guanciale  e tagliatelo prima a fette e poi a striscioline spesse circa cm  . La cotenna avanzata potrà essere riutilizzata per insaporire altre preparazioni. Versate i pezzetti in una padella antiaderente  e rosolate per circa  minuti a fiamma media fate attenzione a non bruciarlo altrimenti rilascerà un aroma troppo forte. Nel frattempo tuffate gli spaghetti nellacqua bollente  e cuoceteli per il tempo indicato sulla confezione. Intanto versate i tuorli in una ciotola   aggiungete anche la maggior parte del Pecorino previsto dalla ricetta  la parte restante servirà per guarnire la pasta. Insaporite con il pepe nero   amalgamate tutto con una frusta a mano  . Aggiungete un cucchiaio di acqua di cottura per diluire il composto e mescolate  . Intanto il guanciale sarà giunto a cottura spegnete il fuoco e tenetelo da parte  . Scolate la pasta al dente direttamente nel tegame con il guanciale  e saltatela brevemente per insaporirla. Togliete dal fuoco e versate il composto di uova e Pecorino  nel tegame. Mescolate velocemente per amalgamare. Per renderla ben cremosa al bisogno potete aggiungere poca acqua di cottura della pasta  . Servite subito gli spaghetti alla carbonara insaporendoli con il Pecorino avanzato  e il pepe nero macinato a piacere  .'"
      ]
     },
     "execution_count": 9,
     "metadata": {},
     "output_type": "execute_result"
    }
   ],
   "source": [
    "def get_ingredients(url):\n",
    "    \n",
    "    #retrieving the url in json format\n",
    "    myurl = urllib2.urlopen(url).read()\n",
    "    soup = BeautifulSoup(myurl)\n",
    "    ingredients = json.loads(soup.find('script', type='application/ld+json').text)\n",
    "    \n",
    "    #cleaning the text:\n",
    "    ingredients = str(ingredients)\n",
    "    ingredients = ingredients.split('[') #splitting the text by [\n",
    "    ingredients = ingredients[1:3] #getting the ingredients and cooking instructions \n",
    "    ingredients = [i.split(']', 1)[0] for i in ingredients] #splitting the text by ] and consolidating the text\n",
    "    \n",
    "    ingredients = listToString(ingredients) #converting the text to a string \n",
    "    \n",
    "    ingredients = re.sub('[^a-zA-ZÀ-ÿ.\\s]', '', ingredients) #removing all the numbers and special characters\n",
    "       \n",
    "    return ingredients\n",
    "\n",
    "get_ingredients(\"https://ricette.giallozafferano.it/Spaghetti-alla-Carbonara.html\")"
   ]
  },
  {
   "cell_type": "code",
   "execution_count": 10,
   "metadata": {},
   "outputs": [],
   "source": [
    "#creating a list of recipes where we will store the recipes we will use\n",
    "recipes = [\"https://ricette.giallozafferano.it/Spaghetti-alla-Carbonara.html\", \"https://ricette.giallozafferano.it/Spaghetti-all-Amatriciana.html\", \n",
    "           \"https://ricette.giallozafferano.it/Risotto-allo-Zafferano.html\", \"https://ricette.giallozafferano.it/Spezzatino-di-manzo.html\", \n",
    "          \"https://ricette.giallozafferano.it/Tiramisu.html\"]"
   ]
  },
  {
   "cell_type": "code",
   "execution_count": 11,
   "metadata": {},
   "outputs": [],
   "source": [
    "#iterating through the list 'recipes' and calling the get_ingredients function to create a list containing \n",
    "#the information we need scraped from the recipes \n",
    "GialloZafferano_Corpus = []\n",
    "\n",
    "for recipe in recipes:\n",
    "    GialloZafferano_Corpus.append(get_ingredients(recipe))"
   ]
  },
  {
   "cell_type": "code",
   "execution_count": 12,
   "metadata": {},
   "outputs": [
    {
     "data": {
      "text/plain": [
       "['Spaghetti  g Guanciale  g Tuorli di uova medie  Pecorino romano  g Sale fino q.b. Pepe nero q.b. Per preparare gli spaghetti alla carbonara cominciate mettendo sul fuoco una pentola con lacqua salata per cuocere la pasta. Nel frattempo eliminate la cotenna dal guanciale  e tagliatelo prima a fette e poi a striscioline spesse circa cm  . La cotenna avanzata potrà essere riutilizzata per insaporire altre preparazioni. Versate i pezzetti in una padella antiaderente  e rosolate per circa  minuti a fiamma media fate attenzione a non bruciarlo altrimenti rilascerà un aroma troppo forte. Nel frattempo tuffate gli spaghetti nellacqua bollente  e cuoceteli per il tempo indicato sulla confezione. Intanto versate i tuorli in una ciotola   aggiungete anche la maggior parte del Pecorino previsto dalla ricetta  la parte restante servirà per guarnire la pasta. Insaporite con il pepe nero   amalgamate tutto con una frusta a mano  . Aggiungete un cucchiaio di acqua di cottura per diluire il composto e mescolate  . Intanto il guanciale sarà giunto a cottura spegnete il fuoco e tenetelo da parte  . Scolate la pasta al dente direttamente nel tegame con il guanciale  e saltatela brevemente per insaporirla. Togliete dal fuoco e versate il composto di uova e Pecorino  nel tegame. Mescolate velocemente per amalgamare. Per renderla ben cremosa al bisogno potete aggiungere poca acqua di cottura della pasta  . Servite subito gli spaghetti alla carbonara insaporendoli con il Pecorino avanzato  e il pepe nero macinato a piacere  .',\n",
       " 'Spaghetti  g Pomodori pelati  g Guanciale di Amatrice  g Pecorino romano da grattugiare  g Sale fino q.b. Olio extravergine doliva q.b. Peperoncino fresco  Vino bianco  g Per preparare gli spaghetti allamatriciana per prima cosa mettete a bollire lacqua per la cottura della pasta da salare poi a bollore. Potete quindi dedicarvi al condimento prendete il guanciale eliminate la cotenna  e tagliatelo a fette di circa  cm di spessore   riducete le fette a listarelle di circa mezzo cm  . A questo punto scaldate un filo di olio in una padella possibilmente dacciaio e aggiungete il peperoncino intero  e il guanciale tagliato a listarelle   fatelo rosolare a fiamma bassa per  minuti fino a che il grasso non sarà diventato trasparente e la carne croccante mescolate spesso facendo attenzione a non bruciarlo. Quando il grasso si sarà sciolto sfumate con il vino bianco   alzate la fiamma e lasciate evaporare. Trasferite le listarelle di guanciale in un piatto  e tenetele da parte versate nella stessa padella i pomodori pelati sfilacciateli con le mani direttamente allinterno del fondo di cottura   proseguite la cottura del sugo per circa  minuti. A questo punto lacqua nel tegame sarà arrivata a bollore quindi versate gli spaghetti  e cuoceteli al dente. Nel frattempo regolate di sale   eliminate il peperoncino dal sugo   unite le listarelle di guanciale in padella  e mescolate per amalgamare. Una volta cotti gli spaghetti scolateli e uniteli direttamente nella padella con il sugo  . Saltate molto velocemente la pasta per amalgamarla bene al condimento se gradite la pasta al dente potete spegnere il fuoco altrimenti versate poca acqua della pasta per proseguire la cottura. Per finire spolverizzate con il Pecorino grattugiato   i vostri spaghetti allAmatriciana sono pronti per essere serviti  ',\n",
       " 'Zafferano in pistilli  cucchiaino Riso Carnaroli  g Burro  g Cipolle  Grana Padano DOP da grattugiare  g Vino bianco  g Acqua q.b. Brodo vegetale  l Sale fino q.b. Zafferano in pistilli q.b. Per realizzare il risotto allo zafferano per prima cosa mettete i pistilli in un bicchierino versate sopra dellacqua  quanto basta a ricoprire i pistilli completamente mescolate  e lasciate in infusione per tutta la notte in questo modo i pistilli rilasceranno tutto il loro colore. Quindi preparate il brodo vegetale  per la ricetta ne occorrerà un litro. Mondate e tritate finemente la cipolla  in modo che si possa sciogliere in cottura e non essere percepita mentre si assaporerà il risotto. In un tegame ampio versate g di burro presi dalla dose totale necessaria   scioglietelo a fuoco dolce quindi versate il trito di cipolla  e lasciate stufare per  minuti aggiungendo del brodo per non far asciugare il soffritto   la cipolla dovrà risultare ben trasparente e morbida. Una volta stufata la cipolla versate il riso  e tostatelo per  minuti così i chicchi si sigilleranno e terranno bene la cottura. Sfumate con il vino bianco  e lasciate evaporare completamente. A questo punto procedete con la cottura per circa  minuti aggiungendo il brodo un mestolo alla volta al bisogno man mano che verrà assorbito dal riso   i chicchi dovranno essere sempre coperti. Cinque minuti prima del termine di cottura versate lacqua con i pistilli di zafferano che avevate messo in infusione   mescolate per insaporire e tingere il risotto di un bel color oro. Terminata la cottura spegnete il fuoco salate   mantecate con il formaggio grattugiato e i restanti  g di burro   mescolate e coprite co il coperchio  lasciate riposare un paio di minuti a questo punto il risotto allo zafferano è pronto   servitelo ben caldo guarnendo il piatto ancora con qualche pistillo  .',\n",
       " 'Carne bovina cappello del prete  kg Brodo di carne  l Cipolle  Carote  Sedano  costa Vino rosso  bicchiere Olio extravergine doliva  cucchiai Burro  g Farina   g Rosmarino  rametto Timo  rametto Salvia  foglie Pepe nero q.b. Sale fino q.b. Per preparare lo spezzatino di manzo cominciate mettendo sul fuoco una pentola con il brodo di carne e lasciate in caldo. Intanto proseguite pulendo sedano carota e cipollaxae sminuzzate le verdure in modo da ottenere dei cubetti di  mm  . Legate insieme timo salvia e rosmarino con un pezzetto di spago da cucina  . Infine tagliate la carne a cubotti della grandezza di  cm  . In una casseruola mettete a scaldare il burro con lolio  . Non appena il fondo sarà caldo aggiungete il trito di sedano carota e cipolla e lasciate insaporire a fuoco dolce per una decina di minuti al bisogno potete aggiungere pochissimo brodo caldo  . Quando il trito è ben appassitoxaaggiungete la carne   alzate la fiamma e lasciate sigillare per bene tutti i pezzi per una decina di minuti regolate di sale e pepe dopodiché spolverizzate con la farina lasciandola tostare per un paio di minuti fate molta attenzione perché potrebbe bruciare quindi mescolate spesso  . Sfumate con il vino rosso e lasciate evaporare completamente   poi aggiungete il mazzetto odoroso e coprite con il brodo di carne caldo  . Coprite con il coperchio e lasciate cuocere a fuoco medio per almeno  ore avendo cura di mescolare di tanto in tanto  . A fine cottura rimuovete il mazzetto odoroso  e assicuratevi che lo spezzatino di manzo sia giusto di sale. A questo punto non vi resta che servire il vostro spezzatino di manzo  ',\n",
       " 'Savoiardi  g Uova freschissime circa  medie  g Mascarpone  g Zucchero  g Caffè della moka già pronto e zuccherato a piacere  g Cacao amaro in polvere per la superficie q.b. Per preparare il tiramisù cominciate dalle uova freschissime quindi separate accuratamente gli albumi dai tuorli   ricordando che per montare bene gli albumi non dovranno presentare alcuna traccia di tuorlo. Poi montate i tuorli con le fruste elettriche versando solo metà dose di zucchero  . Non appena il composto sarà diventato chiaro e spumoso   e con le fruste ancora in funzione potrete aggiungere il mascarpone poco alla volta  . Incorporato tutto il formaggio avrete ottenuto una crema densa e compatta tenetela da parte  . Pulite molto bene le fruste e passate a montare gli albumi versando il restante zucchero un po alla volta  . Dovrete montarli a neve ben ferma   otterrete questo risultato quando rovesciando la ciotola la massa non si muoverà. Prendete una cucchiaiata di albumi e versatela nella ciotola con i tuorli e lo zucchero e mescolate energicamente con una spatola così stempererete il composto  . Dopodiché procedete ad aggiungere la restante parte di albumi poco alla alla volta mescolando molto delicatamente dal basso verso lalto  . Una volta pronto distribuite una generosa cucchiaiata di crema sul fondo di una pirofila da xcm e distribuite per bene  . Poi inzuppate per pochi istanti i savoiardi nel caffè freddo già zuccherato a vostro piacimento noi abbiamo aggiunto solo  cucchiaino di zucchero   prima da un lato e poi dallaltro  . Man mano distribuite i savoiardi imbevuti sulla crema tutti in un verso così da ottenere un primo strato  sul quale andrete a distribuire una parte della crema al mascarpone  . Anche in questo caso dovrete livellarla accuratamente così da avere una superficie liscia  . E continuate a distribuire i savoiardi imbevuti nel caffè   poi realizzate un altro strato di crema  . Livellate la superficie  e spolverizzatela con del cacao amaro in polvere e lasciate rassodare in frigorifero per un paio dore  . Il vostro tiramisù è pronto per essere gustato  ']"
      ]
     },
     "execution_count": 12,
     "metadata": {},
     "output_type": "execute_result"
    }
   ],
   "source": [
    "#this will be our corpus \n",
    "GialloZafferano_Corpus"
   ]
  },
  {
   "cell_type": "code",
   "execution_count": null,
   "metadata": {},
   "outputs": [],
   "source": []
  },
  {
   "cell_type": "code",
   "execution_count": null,
   "metadata": {},
   "outputs": [],
   "source": []
  }
 ],
 "metadata": {
  "kernelspec": {
   "display_name": "Python 3",
   "language": "python",
   "name": "python3"
  },
  "language_info": {
   "codemirror_mode": {
    "name": "ipython",
    "version": 3
   },
   "file_extension": ".py",
   "mimetype": "text/x-python",
   "name": "python",
   "nbconvert_exporter": "python",
   "pygments_lexer": "ipython3",
   "version": "3.7.4"
  }
 },
 "nbformat": 4,
 "nbformat_minor": 2
}
